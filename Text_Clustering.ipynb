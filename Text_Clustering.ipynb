{
 "cells": [
  {
   "cell_type": "markdown",
   "metadata": {},
   "source": [
    "## PartA)"
   ]
  },
  {
   "cell_type": "code",
   "execution_count": 1,
   "metadata": {},
   "outputs": [
    {
     "name": "stderr",
     "output_type": "stream",
     "text": [
      "C:\\Users\\analu\\anaconda3\\lib\\site-packages\\botocore\\vendored\\requests\\packages\\urllib3\\_collections.py:1: DeprecationWarning: Using or importing the ABCs from 'collections' instead of from 'collections.abc' is deprecated since Python 3.3,and in 3.9 it will stop working\n",
      "  from collections import Mapping, MutableMapping\n",
      "C:\\Users\\analu\\anaconda3\\lib\\site-packages\\botocore\\vendored\\requests\\packages\\urllib3\\_collections.py:1: DeprecationWarning: Using or importing the ABCs from 'collections' instead of from 'collections.abc' is deprecated since Python 3.3,and in 3.9 it will stop working\n",
      "  from collections import Mapping, MutableMapping\n",
      "C:\\Users\\analu\\anaconda3\\lib\\site-packages\\scipy\\sparse\\sparsetools.py:21: DeprecationWarning: `scipy.sparse.sparsetools` is deprecated!\n",
      "scipy.sparse.sparsetools is a private module for scipy.sparse, and should not be used.\n",
      "  _deprecated()\n",
      "C:\\Users\\analu\\anaconda3\\lib\\site-packages\\gensim\\models\\doc2vec.py:73: DeprecationWarning: Using or importing the ABCs from 'collections' instead of from 'collections.abc' is deprecated since Python 3.3,and in 3.9 it will stop working\n",
      "  from collections import namedtuple, defaultdict, Iterable\n"
     ]
    }
   ],
   "source": [
    "import pandas as pd\n",
    "import pickle\n",
    "import pyLDAvis\n",
    "import matplotlib.pyplot as plt\n",
    "from seaborn import heatmap\n",
    "from sklearn.feature_extraction.text import TfidfVectorizer\n",
    "from sklearn.cluster import KMeans\n",
    "from sklearn.metrics import classification_report\n",
    "from gensim import corpora, models\n",
    "from pyLDAvis.gensim import prepare"
   ]
  },
  {
   "cell_type": "code",
   "execution_count": 2,
   "metadata": {},
   "outputs": [],
   "source": [
    "#Loading the newsgroupd data\n",
    "df = pd.read_json(\"https://raw.githubusercontent.com/selva86/datasets/master/newsgroups.json\")\n",
    "\n",
    "#loading the stemmed data with pickle\n",
    "stem_data = pickle.load( open( \"stemmed_data.p\", \"rb\" ))"
   ]
  },
  {
   "cell_type": "code",
   "execution_count": 3,
   "metadata": {},
   "outputs": [
    {
     "data": {
      "text/html": [
       "<div>\n",
       "<style scoped>\n",
       "    .dataframe tbody tr th:only-of-type {\n",
       "        vertical-align: middle;\n",
       "    }\n",
       "\n",
       "    .dataframe tbody tr th {\n",
       "        vertical-align: top;\n",
       "    }\n",
       "\n",
       "    .dataframe thead th {\n",
       "        text-align: right;\n",
       "    }\n",
       "</style>\n",
       "<table border=\"1\" class=\"dataframe\">\n",
       "  <thead>\n",
       "    <tr style=\"text-align: right;\">\n",
       "      <th></th>\n",
       "      <th>content</th>\n",
       "      <th>target</th>\n",
       "      <th>target_names</th>\n",
       "      <th>preprocessed</th>\n",
       "    </tr>\n",
       "  </thead>\n",
       "  <tbody>\n",
       "    <tr>\n",
       "      <th>0</th>\n",
       "      <td>From: lerxst@wam.umd.edu (where's my thing)\\nS...</td>\n",
       "      <td>7</td>\n",
       "      <td>rec.autos</td>\n",
       "      <td>car wonder enlighten car saw dai door sport ca...</td>\n",
       "    </tr>\n",
       "    <tr>\n",
       "      <th>1</th>\n",
       "      <td>From: guykuo@carson.u.washington.edu (Guy Kuo)...</td>\n",
       "      <td>4</td>\n",
       "      <td>comp.sys.mac.hardware</td>\n",
       "      <td>clock poll final final clock report acceler cl...</td>\n",
       "    </tr>\n",
       "    <tr>\n",
       "      <th>2</th>\n",
       "      <td>From: twillis@ec.ecn.purdue.edu (Thomas E Will...</td>\n",
       "      <td>4</td>\n",
       "      <td>comp.sys.mac.hardware</td>\n",
       "      <td>question folk mac plu final gave ghost weekend...</td>\n",
       "    </tr>\n",
       "    <tr>\n",
       "      <th>3</th>\n",
       "      <td>From: jgreen@amber (Joe Green)\\nSubject: Re: W...</td>\n",
       "      <td>1</td>\n",
       "      <td>comp.graphics</td>\n",
       "      <td>weitek robert kyanko rob rjck uucp wrote abrax...</td>\n",
       "    </tr>\n",
       "    <tr>\n",
       "      <th>4</th>\n",
       "      <td>From: jcm@head-cfa.harvard.edu (Jonathan McDow...</td>\n",
       "      <td>14</td>\n",
       "      <td>sci.space</td>\n",
       "      <td>shuttl launch question articl cowcb world std ...</td>\n",
       "    </tr>\n",
       "  </tbody>\n",
       "</table>\n",
       "</div>"
      ],
      "text/plain": [
       "                                             content  target  \\\n",
       "0  From: lerxst@wam.umd.edu (where's my thing)\\nS...       7   \n",
       "1  From: guykuo@carson.u.washington.edu (Guy Kuo)...       4   \n",
       "2  From: twillis@ec.ecn.purdue.edu (Thomas E Will...       4   \n",
       "3  From: jgreen@amber (Joe Green)\\nSubject: Re: W...       1   \n",
       "4  From: jcm@head-cfa.harvard.edu (Jonathan McDow...      14   \n",
       "\n",
       "            target_names                                       preprocessed  \n",
       "0              rec.autos  car wonder enlighten car saw dai door sport ca...  \n",
       "1  comp.sys.mac.hardware  clock poll final final clock report acceler cl...  \n",
       "2  comp.sys.mac.hardware  question folk mac plu final gave ghost weekend...  \n",
       "3          comp.graphics  weitek robert kyanko rob rjck uucp wrote abrax...  \n",
       "4              sci.space  shuttl launch question articl cowcb world std ...  "
      ]
     },
     "execution_count": 3,
     "metadata": {},
     "output_type": "execute_result"
    }
   ],
   "source": [
    "#adding preprocessed data to the DF\n",
    "df['preprocessed']= stem_data\n",
    "df.head()"
   ]
  },
  {
   "cell_type": "code",
   "execution_count": 4,
   "metadata": {},
   "outputs": [
    {
     "data": {
      "text/html": [
       "<div>\n",
       "<style scoped>\n",
       "    .dataframe tbody tr th:only-of-type {\n",
       "        vertical-align: middle;\n",
       "    }\n",
       "\n",
       "    .dataframe tbody tr th {\n",
       "        vertical-align: top;\n",
       "    }\n",
       "\n",
       "    .dataframe thead th {\n",
       "        text-align: right;\n",
       "    }\n",
       "</style>\n",
       "<table border=\"1\" class=\"dataframe\">\n",
       "  <thead>\n",
       "    <tr style=\"text-align: right;\">\n",
       "      <th></th>\n",
       "      <th>content</th>\n",
       "      <th>target</th>\n",
       "      <th>target_names</th>\n",
       "      <th>preprocessed</th>\n",
       "    </tr>\n",
       "  </thead>\n",
       "  <tbody>\n",
       "    <tr>\n",
       "      <th>11298</th>\n",
       "      <td>From: cbetz@radioman.cray.com (Charles Betz  {...</td>\n",
       "      <td>10</td>\n",
       "      <td>rec.sport.hockey</td>\n",
       "      <td>nhl team milwauke read report possibl nhl move...</td>\n",
       "    </tr>\n",
       "    <tr>\n",
       "      <th>11299</th>\n",
       "      <td>From: 2120788@hydra.maths.unsw.EDU.AU ()\\nSubj...</td>\n",
       "      <td>17</td>\n",
       "      <td>talk.politics.mideast</td>\n",
       "      <td>turkei cypru bosnia serbia greec armenia azeri...</td>\n",
       "    </tr>\n",
       "    <tr>\n",
       "      <th>11300</th>\n",
       "      <td>From: aa888@freenet.carleton.ca (Mark Baker)\\n...</td>\n",
       "      <td>15</td>\n",
       "      <td>soc.religion.christian</td>\n",
       "      <td>arrog christian previou articl phsd vaxc monas...</td>\n",
       "    </tr>\n",
       "    <tr>\n",
       "      <th>11305</th>\n",
       "      <td>From: shaig@composer.think.com (Shai Guday)\\nS...</td>\n",
       "      <td>17</td>\n",
       "      <td>talk.politics.mideast</td>\n",
       "      <td>hezbollah apr yuma acn colost edu repli long l...</td>\n",
       "    </tr>\n",
       "    <tr>\n",
       "      <th>11313</th>\n",
       "      <td>From: gunning@cco.caltech.edu (Kevin J. Gunnin...</td>\n",
       "      <td>8</td>\n",
       "      <td>rec.motorcycles</td>\n",
       "      <td>stolen cbrrr stolen pasadena blue white honda ...</td>\n",
       "    </tr>\n",
       "  </tbody>\n",
       "</table>\n",
       "</div>"
      ],
      "text/plain": [
       "                                                 content  target  \\\n",
       "11298  From: cbetz@radioman.cray.com (Charles Betz  {...      10   \n",
       "11299  From: 2120788@hydra.maths.unsw.EDU.AU ()\\nSubj...      17   \n",
       "11300  From: aa888@freenet.carleton.ca (Mark Baker)\\n...      15   \n",
       "11305  From: shaig@composer.think.com (Shai Guday)\\nS...      17   \n",
       "11313  From: gunning@cco.caltech.edu (Kevin J. Gunnin...       8   \n",
       "\n",
       "                 target_names  \\\n",
       "11298        rec.sport.hockey   \n",
       "11299   talk.politics.mideast   \n",
       "11300  soc.religion.christian   \n",
       "11305   talk.politics.mideast   \n",
       "11313         rec.motorcycles   \n",
       "\n",
       "                                            preprocessed  \n",
       "11298  nhl team milwauke read report possibl nhl move...  \n",
       "11299  turkei cypru bosnia serbia greec armenia azeri...  \n",
       "11300  arrog christian previou articl phsd vaxc monas...  \n",
       "11305  hezbollah apr yuma acn colost edu repli long l...  \n",
       "11313  stolen cbrrr stolen pasadena blue white honda ...  "
      ]
     },
     "execution_count": 4,
     "metadata": {},
     "output_type": "execute_result"
    }
   ],
   "source": [
    "#Filtering\n",
    "filtered_df = df[(df[\"target_names\"]== 'soc.religion.christian')  \n",
    "             |(df[\"target_names\"]=='rec.sport.hockey')\n",
    "             |(df[\"target_names\"]=='talk.politics.mideast')\n",
    "             |(df[\"target_names\"]=='rec.motorcycles')]\n",
    "\n",
    "filtered_df.tail()"
   ]
  },
  {
   "cell_type": "code",
   "execution_count": 5,
   "metadata": {},
   "outputs": [],
   "source": [
    "#TF-IDF Vectorizer\n",
    "vec_tfidf = TfidfVectorizer(max_df=0.7, min_df=0.1, smooth_idf=False)\n",
    "\n",
    "#TF-IDF frequencies\n",
    "data_tfidf = vec_tfidf.fit_transform(filtered_df['preprocessed'])\n",
    "\n",
    "#Feature names\n",
    "words = vec_tfidf.get_feature_names()"
   ]
  },
  {
   "cell_type": "markdown",
   "metadata": {},
   "source": [
    "## Part B)"
   ]
  },
  {
   "cell_type": "code",
   "execution_count": 6,
   "metadata": {},
   "outputs": [
    {
     "data": {
      "text/plain": [
       "KMeans(algorithm='auto', copy_x=True, init='k-means++', max_iter=1000,\n",
       "       n_clusters=4, n_init=10, n_jobs=None, precompute_distances='auto',\n",
       "       random_state=None, tol=0.0001, verbose=0)"
      ]
     },
     "execution_count": 6,
     "metadata": {},
     "output_type": "execute_result"
    }
   ],
   "source": [
    "kmeans = KMeans(n_clusters = 4, max_iter=1000)\n",
    "kmeans.fit(data_tfidf)"
   ]
  },
  {
   "cell_type": "code",
   "execution_count": 7,
   "metadata": {},
   "outputs": [
    {
     "name": "stdout",
     "output_type": "stream",
     "text": [
      "0 : game, team, plai, hockei, edu, year, write, new, think, time\n",
      "1 : com, bike, dod, articl, write, edu, like, apr, good, new\n",
      "2 : god, christian, believ, peopl, edu, think, know, question, rutger, word\n",
      "3 : edu, israel, write, peopl, articl, new, know, time, right, like\n"
     ]
    }
   ],
   "source": [
    "#Last words (most common) of the centroids list of words\n",
    "common_words = kmeans.cluster_centers_.argsort()[:,-1:-11:-1]\n",
    "\n",
    "#Most common words for each cluster\n",
    "for num, centroid in enumerate(common_words):\n",
    "    print(str(num) + ' : ' + ', '.join(words[word] for word in centroid))"
   ]
  },
  {
   "cell_type": "code",
   "execution_count": 8,
   "metadata": {},
   "outputs": [
    {
     "name": "stderr",
     "output_type": "stream",
     "text": [
      "C:\\Users\\analu\\anaconda3\\lib\\site-packages\\pandas\\core\\indexing.py:844: SettingWithCopyWarning: \n",
      "A value is trying to be set on a copy of a slice from a DataFrame.\n",
      "Try using .loc[row_indexer,col_indexer] = value instead\n",
      "\n",
      "See the caveats in the documentation: https://pandas.pydata.org/pandas-docs/stable/user_guide/indexing.html#returning-a-view-versus-a-copy\n",
      "  self.obj[key] = _infer_fill_value(value)\n",
      "C:\\Users\\analu\\anaconda3\\lib\\site-packages\\pandas\\core\\indexing.py:965: SettingWithCopyWarning: \n",
      "A value is trying to be set on a copy of a slice from a DataFrame.\n",
      "Try using .loc[row_indexer,col_indexer] = value instead\n",
      "\n",
      "See the caveats in the documentation: https://pandas.pydata.org/pandas-docs/stable/user_guide/indexing.html#returning-a-view-versus-a-copy\n",
      "  self.obj[item] = s\n"
     ]
    },
    {
     "data": {
      "text/html": [
       "<div>\n",
       "<style scoped>\n",
       "    .dataframe tbody tr th:only-of-type {\n",
       "        vertical-align: middle;\n",
       "    }\n",
       "\n",
       "    .dataframe tbody tr th {\n",
       "        vertical-align: top;\n",
       "    }\n",
       "\n",
       "    .dataframe thead th {\n",
       "        text-align: right;\n",
       "    }\n",
       "</style>\n",
       "<table border=\"1\" class=\"dataframe\">\n",
       "  <thead>\n",
       "    <tr style=\"text-align: right;\">\n",
       "      <th></th>\n",
       "      <th>content</th>\n",
       "      <th>target</th>\n",
       "      <th>target_names</th>\n",
       "      <th>preprocessed</th>\n",
       "      <th>clusters</th>\n",
       "    </tr>\n",
       "  </thead>\n",
       "  <tbody>\n",
       "    <tr>\n",
       "      <th>10</th>\n",
       "      <td>From: irwin@cmptrc.lonestar.org (Irwin Arnstei...</td>\n",
       "      <td>8</td>\n",
       "      <td>rec.motorcycles</td>\n",
       "      <td>recommend duc worth ducati gt line ducati gt m...</td>\n",
       "      <td>1</td>\n",
       "    </tr>\n",
       "    <tr>\n",
       "      <th>21</th>\n",
       "      <td>From: leunggm@odin.control.utoronto.ca (Gary L...</td>\n",
       "      <td>10</td>\n",
       "      <td>rec.sport.hockey</td>\n",
       "      <td>nhl team captain articl apr samba oit unc edu ...</td>\n",
       "      <td>0</td>\n",
       "    </tr>\n",
       "    <tr>\n",
       "      <th>28</th>\n",
       "      <td>From: jonh@david.wheaton.edu (Jonathan Hayward...</td>\n",
       "      <td>15</td>\n",
       "      <td>soc.religion.christian</td>\n",
       "      <td>pantheism environment articl apr atho rutger e...</td>\n",
       "      <td>2</td>\n",
       "    </tr>\n",
       "    <tr>\n",
       "      <th>33</th>\n",
       "      <td>From: ayr1@cunixa.cc.columbia.edu (Amir Y Rose...</td>\n",
       "      <td>17</td>\n",
       "      <td>talk.politics.mideast</td>\n",
       "      <td>isra expans lust articl spam math adelaid edu ...</td>\n",
       "      <td>3</td>\n",
       "    </tr>\n",
       "    <tr>\n",
       "      <th>35</th>\n",
       "      <td>From: dchhabra@stpl.ists.ca (Deepak Chhabra)\\n...</td>\n",
       "      <td>10</td>\n",
       "      <td>rec.sport.hockey</td>\n",
       "      <td>goali mask articl netnew upenn edu kkeller mai...</td>\n",
       "      <td>3</td>\n",
       "    </tr>\n",
       "  </tbody>\n",
       "</table>\n",
       "</div>"
      ],
      "text/plain": [
       "                                              content  target  \\\n",
       "10  From: irwin@cmptrc.lonestar.org (Irwin Arnstei...       8   \n",
       "21  From: leunggm@odin.control.utoronto.ca (Gary L...      10   \n",
       "28  From: jonh@david.wheaton.edu (Jonathan Hayward...      15   \n",
       "33  From: ayr1@cunixa.cc.columbia.edu (Amir Y Rose...      17   \n",
       "35  From: dchhabra@stpl.ists.ca (Deepak Chhabra)\\n...      10   \n",
       "\n",
       "              target_names                                       preprocessed  \\\n",
       "10         rec.motorcycles  recommend duc worth ducati gt line ducati gt m...   \n",
       "21        rec.sport.hockey  nhl team captain articl apr samba oit unc edu ...   \n",
       "28  soc.religion.christian  pantheism environment articl apr atho rutger e...   \n",
       "33   talk.politics.mideast  isra expans lust articl spam math adelaid edu ...   \n",
       "35        rec.sport.hockey  goali mask articl netnew upenn edu kkeller mai...   \n",
       "\n",
       "    clusters  \n",
       "10         1  \n",
       "21         0  \n",
       "28         2  \n",
       "33         3  \n",
       "35         3  "
      ]
     },
     "execution_count": 8,
     "metadata": {},
     "output_type": "execute_result"
    }
   ],
   "source": [
    "filtered_df.loc[:,'clusters'] = kmeans.labels_\n",
    "filtered_df.head()"
   ]
  },
  {
   "cell_type": "code",
   "execution_count": 9,
   "metadata": {},
   "outputs": [
    {
     "data": {
      "image/png": "[encoded data removed]",
      "text/plain": [
       "<Figure size 1872x1080 with 2 Axes>"
      ]
     },
     "metadata": {
      "needs_background": "light"
     },
     "output_type": "display_data"
    }
   ],
   "source": [
    "#Heatmap correlating clusters and target names\n",
    "\n",
    "clusters = filtered_df.groupby(['clusters', 'target_names']).size()\n",
    "fig, ax1 = plt.subplots(figsize = (26, 15))\n",
    "heatmap(clusters.unstack(level = 'target_names'), ax = ax1, cmap = 'Reds')\n",
    "ax1.set_xlabel('target_names').set_size(18)\n",
    "ax1.set_ylabel('cluster').set_size(18)"
   ]
  },
  {
   "cell_type": "code",
   "execution_count": 10,
   "metadata": {},
   "outputs": [
    {
     "name": "stderr",
     "output_type": "stream",
     "text": [
      "C:\\Users\\analu\\anaconda3\\lib\\site-packages\\pandas\\core\\indexing.py:844: SettingWithCopyWarning: \n",
      "A value is trying to be set on a copy of a slice from a DataFrame.\n",
      "Try using .loc[row_indexer,col_indexer] = value instead\n",
      "\n",
      "See the caveats in the documentation: https://pandas.pydata.org/pandas-docs/stable/user_guide/indexing.html#returning-a-view-versus-a-copy\n",
      "  self.obj[key] = _infer_fill_value(value)\n",
      "C:\\Users\\analu\\anaconda3\\lib\\site-packages\\pandas\\core\\indexing.py:965: SettingWithCopyWarning: \n",
      "A value is trying to be set on a copy of a slice from a DataFrame.\n",
      "Try using .loc[row_indexer,col_indexer] = value instead\n",
      "\n",
      "See the caveats in the documentation: https://pandas.pydata.org/pandas-docs/stable/user_guide/indexing.html#returning-a-view-versus-a-copy\n",
      "  self.obj[item] = s\n"
     ]
    }
   ],
   "source": [
    "filtered_df.loc[:,'pred']=''\n"
   ]
  },
  {
   "cell_type": "code",
   "execution_count": 21,
   "metadata": {},
   "outputs": [
    {
     "name": "stderr",
     "output_type": "stream",
     "text": [
      "C:\\Users\\analu\\anaconda3\\lib\\site-packages\\pandas\\core\\indexing.py:965: SettingWithCopyWarning: \n",
      "A value is trying to be set on a copy of a slice from a DataFrame.\n",
      "Try using .loc[row_indexer,col_indexer] = value instead\n",
      "\n",
      "See the caveats in the documentation: https://pandas.pydata.org/pandas-docs/stable/user_guide/indexing.html#returning-a-view-versus-a-copy\n",
      "  self.obj[item] = s\n"
     ]
    },
    {
     "data": {
      "text/html": [
       "<div>\n",
       "<style scoped>\n",
       "    .dataframe tbody tr th:only-of-type {\n",
       "        vertical-align: middle;\n",
       "    }\n",
       "\n",
       "    .dataframe tbody tr th {\n",
       "        vertical-align: top;\n",
       "    }\n",
       "\n",
       "    .dataframe thead th {\n",
       "        text-align: right;\n",
       "    }\n",
       "</style>\n",
       "<table border=\"1\" class=\"dataframe\">\n",
       "  <thead>\n",
       "    <tr style=\"text-align: right;\">\n",
       "      <th></th>\n",
       "      <th>content</th>\n",
       "      <th>target</th>\n",
       "      <th>target_names</th>\n",
       "      <th>preprocessed</th>\n",
       "      <th>clusters</th>\n",
       "      <th>pred</th>\n",
       "      <th>topics_lda</th>\n",
       "    </tr>\n",
       "  </thead>\n",
       "  <tbody>\n",
       "    <tr>\n",
       "      <th>10</th>\n",
       "      <td>From: irwin@cmptrc.lonestar.org (Irwin Arnstei...</td>\n",
       "      <td>8</td>\n",
       "      <td>rec.motorcycles</td>\n",
       "      <td>recommend duc worth ducati gt line ducati gt m...</td>\n",
       "      <td>1</td>\n",
       "      <td>rec.motorcycles</td>\n",
       "      <td>3</td>\n",
       "    </tr>\n",
       "    <tr>\n",
       "      <th>21</th>\n",
       "      <td>From: leunggm@odin.control.utoronto.ca (Gary L...</td>\n",
       "      <td>10</td>\n",
       "      <td>rec.sport.hockey</td>\n",
       "      <td>nhl team captain articl apr samba oit unc edu ...</td>\n",
       "      <td>0</td>\n",
       "      <td>rec.sport.hockey</td>\n",
       "      <td>3</td>\n",
       "    </tr>\n",
       "    <tr>\n",
       "      <th>28</th>\n",
       "      <td>From: jonh@david.wheaton.edu (Jonathan Hayward...</td>\n",
       "      <td>15</td>\n",
       "      <td>soc.religion.christian</td>\n",
       "      <td>pantheism environment articl apr atho rutger e...</td>\n",
       "      <td>2</td>\n",
       "      <td>soc.religion.christian</td>\n",
       "      <td>3</td>\n",
       "    </tr>\n",
       "    <tr>\n",
       "      <th>33</th>\n",
       "      <td>From: ayr1@cunixa.cc.columbia.edu (Amir Y Rose...</td>\n",
       "      <td>17</td>\n",
       "      <td>talk.politics.mideast</td>\n",
       "      <td>isra expans lust articl spam math adelaid edu ...</td>\n",
       "      <td>3</td>\n",
       "      <td>talk.politics.mideast</td>\n",
       "      <td>2</td>\n",
       "    </tr>\n",
       "    <tr>\n",
       "      <th>35</th>\n",
       "      <td>From: dchhabra@stpl.ists.ca (Deepak Chhabra)\\n...</td>\n",
       "      <td>10</td>\n",
       "      <td>rec.sport.hockey</td>\n",
       "      <td>goali mask articl netnew upenn edu kkeller mai...</td>\n",
       "      <td>3</td>\n",
       "      <td>talk.politics.mideast</td>\n",
       "      <td>2</td>\n",
       "    </tr>\n",
       "  </tbody>\n",
       "</table>\n",
       "</div>"
      ],
      "text/plain": [
       "                                              content  target  \\\n",
       "10  From: irwin@cmptrc.lonestar.org (Irwin Arnstei...       8   \n",
       "21  From: leunggm@odin.control.utoronto.ca (Gary L...      10   \n",
       "28  From: jonh@david.wheaton.edu (Jonathan Hayward...      15   \n",
       "33  From: ayr1@cunixa.cc.columbia.edu (Amir Y Rose...      17   \n",
       "35  From: dchhabra@stpl.ists.ca (Deepak Chhabra)\\n...      10   \n",
       "\n",
       "              target_names                                       preprocessed  \\\n",
       "10         rec.motorcycles  recommend duc worth ducati gt line ducati gt m...   \n",
       "21        rec.sport.hockey  nhl team captain articl apr samba oit unc edu ...   \n",
       "28  soc.religion.christian  pantheism environment articl apr atho rutger e...   \n",
       "33   talk.politics.mideast  isra expans lust articl spam math adelaid edu ...   \n",
       "35        rec.sport.hockey  goali mask articl netnew upenn edu kkeller mai...   \n",
       "\n",
       "    clusters                    pred  topics_lda  \n",
       "10         1         rec.motorcycles           3  \n",
       "21         0        rec.sport.hockey           3  \n",
       "28         2  soc.religion.christian           3  \n",
       "33         3   talk.politics.mideast           2  \n",
       "35         3   talk.politics.mideast           2  "
      ]
     },
     "execution_count": 21,
     "metadata": {},
     "output_type": "execute_result"
    }
   ],
   "source": [
    "filtered_df.loc[filtered_df.clusters == 0, 'pred'] =  'rec.sport.hockey'\n",
    "filtered_df.loc[filtered_df.clusters == 1, 'pred'] = 'rec.motorcycles'\n",
    "filtered_df.loc[filtered_df.clusters == 2, 'pred'] = 'soc.religion.christian'\n",
    "filtered_df.loc[filtered_df.clusters == 3, 'pred'] = 'talk.politics.mideast'\n",
    "filtered_df.head()"
   ]
  },
  {
   "cell_type": "code",
   "execution_count": 22,
   "metadata": {},
   "outputs": [
    {
     "name": "stdout",
     "output_type": "stream",
     "text": [
      "Classification Report: \n",
      "                        precision    recall  f1-score   support\n",
      "\n",
      "       rec.motorcycles       0.86      0.67      0.76       598\n",
      "      rec.sport.hockey       0.98      0.71      0.83       600\n",
      "soc.religion.christian       0.96      0.65      0.78       599\n",
      " talk.politics.mideast       0.49      0.91      0.64       564\n",
      "\n",
      "              accuracy                           0.73      2361\n",
      "             macro avg       0.82      0.74      0.75      2361\n",
      "          weighted avg       0.83      0.73      0.75      2361\n",
      "\n"
     ]
    }
   ],
   "source": [
    "print(\"Classification Report: \\n{0}\".format(classification_report(filtered_df.target_names, filtered_df.pred)))"
   ]
  },
  {
   "cell_type": "markdown",
   "metadata": {},
   "source": [
    "The overall accuracy of the model is reasonable. The clustering seems to overestimate all topics except for politics.mideast, which is highly underestimated"
   ]
  },
  {
   "cell_type": "markdown",
   "metadata": {},
   "source": [
    "## Part C)"
   ]
  },
  {
   "cell_type": "code",
   "execution_count": 13,
   "metadata": {},
   "outputs": [
    {
     "name": "stdout",
     "output_type": "stream",
     "text": [
      "Dictionary(21495 unique tokens: ['accel', 'axi', 'beemer', 'bike', 'bit']...)\n"
     ]
    }
   ],
   "source": [
    "from gensim.corpora import Dictionary\n",
    "corpus_gen = [doc.split() for doc in filtered_df.preprocessed]\n",
    "\n",
    "#Creating the dictionary\n",
    "dictionary = Dictionary(corpus_gen)\n",
    "print(dictionary)"
   ]
  },
  {
   "cell_type": "code",
   "execution_count": 14,
   "metadata": {},
   "outputs": [
    {
     "name": "stdout",
     "output_type": "stream",
     "text": [
      "Dictionary(336 unique tokens: ['bike', 'bit', 'dod', 'hard', 'like']...)\n"
     ]
    }
   ],
   "source": [
    "#Filtering out words that appear less than 118 times and those which appear in more than 95% of the documents\n",
    "dictionary.filter_extremes(no_below=118, no_above=0.95)\n",
    "print(dictionary)"
   ]
  },
  {
   "cell_type": "code",
   "execution_count": 15,
   "metadata": {},
   "outputs": [
    {
     "name": "stdout",
     "output_type": "stream",
     "text": [
      "[(0, 2), (1, 1), (2, 1), (3, 1), (4, 1), (5, 1), (6, 1), (7, 1), (8, 1), (9, 1), (10, 1), (11, 1)]\n"
     ]
    }
   ],
   "source": [
    "#Bag of words - Absolute frequency\n",
    "corpus = [dictionary.doc2bow(doc) for doc in corpus_gen]\n",
    "print(corpus[0])"
   ]
  },
  {
   "cell_type": "code",
   "execution_count": 16,
   "metadata": {},
   "outputs": [],
   "source": [
    "#Latent Dirichlet Allocation (LDA) for topic modelling: training\n",
    "\n",
    "lda = models.LdaModel(corpus,             # corpus\n",
    "                      num_topics=4,       # Number of desired topics\n",
    "                      id2word=dictionary, # Mapping from word IDs to words. It is used to determine the vocabulary size\n",
    "                      iterations=100,     # Maximum number of iterations to infer topic distribution\n",
    "                      passes=10,          # Number of passes through the corpus during training\n",
    "                     chunksize = 10)          \n",
    "\n",
    "\n",
    "#Difference between passes and iterations?"
   ]
  },
  {
   "cell_type": "markdown",
   "metadata": {},
   "source": [
    " The separation is not very clear. It might have fused hockey and motorbike together and separated politics.mideast in two\n",
    "* 0 - 'soc.religion.christian'\n",
    "* 1 - 'talk.politics.mideast'\n",
    "* 2 - 'talk.politics.mideast'\n",
    "* 3 - 'rec.motorcycles' + 'rec.sport.hockey'"
   ]
  },
  {
   "cell_type": "code",
   "execution_count": 17,
   "metadata": {},
   "outputs": [
    {
     "data": {
      "text/plain": [
       "[(0,\n",
       "  '0.068*\"team\" + 0.049*\"game\" + 0.046*\"hockei\" + 0.034*\"plai\" + 0.031*\"edu\" + 0.029*\"armenian\" + 0.027*\"new\" + 0.027*\"win\" + 0.027*\"wing\" + 0.027*\"year\"'),\n",
       " (1,\n",
       "  '0.068*\"edu\" + 0.061*\"com\" + 0.060*\"write\" + 0.055*\"articl\" + 0.047*\"israel\" + 0.035*\"isra\" + 0.032*\"apr\" + 0.032*\"state\" + 0.031*\"bike\" + 0.026*\"jew\"'),\n",
       " (2,\n",
       "  '0.030*\"time\" + 0.029*\"like\" + 0.024*\"know\" + 0.020*\"said\" + 0.018*\"year\" + 0.017*\"think\" + 0.017*\"go\" + 0.015*\"want\" + 0.015*\"look\" + 0.015*\"work\"'),\n",
       " (3,\n",
       "  '0.043*\"god\" + 0.038*\"peopl\" + 0.023*\"christian\" + 0.022*\"believ\" + 0.017*\"reason\" + 0.017*\"wai\" + 0.016*\"thing\" + 0.015*\"think\" + 0.015*\"edu\" + 0.014*\"evid\"')]"
      ]
     },
     "execution_count": 17,
     "metadata": {},
     "output_type": "execute_result"
    }
   ],
   "source": [
    "#Topic Composition: Distribution of  words per topic\n",
    "lda.show_topics()"
   ]
  },
  {
   "cell_type": "code",
   "execution_count": 18,
   "metadata": {},
   "outputs": [
    {
     "name": "stderr",
     "output_type": "stream",
     "text": [
      "C:\\Users\\analu\\anaconda3\\lib\\site-packages\\ipykernel_launcher.py:2: SettingWithCopyWarning: \n",
      "A value is trying to be set on a copy of a slice from a DataFrame.\n",
      "Try using .loc[row_indexer,col_indexer] = value instead\n",
      "\n",
      "See the caveats in the documentation: https://pandas.pydata.org/pandas-docs/stable/user_guide/indexing.html#returning-a-view-versus-a-copy\n",
      "  \n"
     ]
    },
    {
     "data": {
      "text/html": [
       "<div>\n",
       "<style scoped>\n",
       "    .dataframe tbody tr th:only-of-type {\n",
       "        vertical-align: middle;\n",
       "    }\n",
       "\n",
       "    .dataframe tbody tr th {\n",
       "        vertical-align: top;\n",
       "    }\n",
       "\n",
       "    .dataframe thead th {\n",
       "        text-align: right;\n",
       "    }\n",
       "</style>\n",
       "<table border=\"1\" class=\"dataframe\">\n",
       "  <thead>\n",
       "    <tr style=\"text-align: right;\">\n",
       "      <th></th>\n",
       "      <th>content</th>\n",
       "      <th>target</th>\n",
       "      <th>target_names</th>\n",
       "      <th>preprocessed</th>\n",
       "      <th>clusters</th>\n",
       "      <th>pred</th>\n",
       "      <th>topics_lda</th>\n",
       "    </tr>\n",
       "  </thead>\n",
       "  <tbody>\n",
       "    <tr>\n",
       "      <th>10</th>\n",
       "      <td>From: irwin@cmptrc.lonestar.org (Irwin Arnstei...</td>\n",
       "      <td>8</td>\n",
       "      <td>rec.motorcycles</td>\n",
       "      <td>recommend duc worth ducati gt line ducati gt m...</td>\n",
       "      <td>1</td>\n",
       "      <td>rec.sport.hockey</td>\n",
       "      <td>3</td>\n",
       "    </tr>\n",
       "    <tr>\n",
       "      <th>21</th>\n",
       "      <td>From: leunggm@odin.control.utoronto.ca (Gary L...</td>\n",
       "      <td>10</td>\n",
       "      <td>rec.sport.hockey</td>\n",
       "      <td>nhl team captain articl apr samba oit unc edu ...</td>\n",
       "      <td>0</td>\n",
       "      <td>talk.politics.mideast</td>\n",
       "      <td>3</td>\n",
       "    </tr>\n",
       "    <tr>\n",
       "      <th>28</th>\n",
       "      <td>From: jonh@david.wheaton.edu (Jonathan Hayward...</td>\n",
       "      <td>15</td>\n",
       "      <td>soc.religion.christian</td>\n",
       "      <td>pantheism environment articl apr atho rutger e...</td>\n",
       "      <td>2</td>\n",
       "      <td>rec.motorcycles</td>\n",
       "      <td>3</td>\n",
       "    </tr>\n",
       "    <tr>\n",
       "      <th>33</th>\n",
       "      <td>From: ayr1@cunixa.cc.columbia.edu (Amir Y Rose...</td>\n",
       "      <td>17</td>\n",
       "      <td>talk.politics.mideast</td>\n",
       "      <td>isra expans lust articl spam math adelaid edu ...</td>\n",
       "      <td>3</td>\n",
       "      <td>soc.religion.christian</td>\n",
       "      <td>2</td>\n",
       "    </tr>\n",
       "    <tr>\n",
       "      <th>35</th>\n",
       "      <td>From: dchhabra@stpl.ists.ca (Deepak Chhabra)\\n...</td>\n",
       "      <td>10</td>\n",
       "      <td>rec.sport.hockey</td>\n",
       "      <td>goali mask articl netnew upenn edu kkeller mai...</td>\n",
       "      <td>3</td>\n",
       "      <td>soc.religion.christian</td>\n",
       "      <td>2</td>\n",
       "    </tr>\n",
       "  </tbody>\n",
       "</table>\n",
       "</div>"
      ],
      "text/plain": [
       "                                              content  target  \\\n",
       "10  From: irwin@cmptrc.lonestar.org (Irwin Arnstei...       8   \n",
       "21  From: leunggm@odin.control.utoronto.ca (Gary L...      10   \n",
       "28  From: jonh@david.wheaton.edu (Jonathan Hayward...      15   \n",
       "33  From: ayr1@cunixa.cc.columbia.edu (Amir Y Rose...      17   \n",
       "35  From: dchhabra@stpl.ists.ca (Deepak Chhabra)\\n...      10   \n",
       "\n",
       "              target_names                                       preprocessed  \\\n",
       "10         rec.motorcycles  recommend duc worth ducati gt line ducati gt m...   \n",
       "21        rec.sport.hockey  nhl team captain articl apr samba oit unc edu ...   \n",
       "28  soc.religion.christian  pantheism environment articl apr atho rutger e...   \n",
       "33   talk.politics.mideast  isra expans lust articl spam math adelaid edu ...   \n",
       "35        rec.sport.hockey  goali mask articl netnew upenn edu kkeller mai...   \n",
       "\n",
       "    clusters                    pred  topics_lda  \n",
       "10         1        rec.sport.hockey           3  \n",
       "21         0   talk.politics.mideast           3  \n",
       "28         2         rec.motorcycles           3  \n",
       "33         3  soc.religion.christian           2  \n",
       "35         3  soc.religion.christian           2  "
      ]
     },
     "execution_count": 18,
     "metadata": {},
     "output_type": "execute_result"
    }
   ],
   "source": [
    "topics=lda[corpus] # Distribution of topics per document\n",
    "filtered_df['topics_lda']= [max(topics[i])[0] for i in range(len(topics))]\n",
    "filtered_df.head()"
   ]
  },
  {
   "cell_type": "markdown",
   "metadata": {},
   "source": [
    "Looks like a total mess. There is no clear way to assign the initial target names according to the new culsters"
   ]
  },
  {
   "cell_type": "code",
   "execution_count": 19,
   "metadata": {
    "scrolled": true
   },
   "outputs": [
    {
     "data": {
      "image/png": "[encoded data removed]",
      "text/plain": [
       "<Figure size 1872x1080 with 2 Axes>"
      ]
     },
     "metadata": {
      "needs_background": "light"
     },
     "output_type": "display_data"
    }
   ],
   "source": [
    "#Heatmap correlating LDA topics and target names\n",
    "\n",
    "clusters = filtered_df.groupby(['topics_lda', 'target_names']).size()\n",
    "fig, ax1 = plt.subplots(figsize = (26, 15))\n",
    "heatmap(clusters.unstack(level = 'target_names'), ax = ax1, cmap = 'Reds')\n",
    "ax1.set_xlabel('target_names').set_size(18)\n",
    "ax1.set_ylabel('topics_lda').set_size(18)"
   ]
  },
  {
   "cell_type": "markdown",
   "metadata": {},
   "source": [
    "Visualizing and Interpreting LDA generated Topics with LDAvis. Can be exported as an HTML, json or visualized in the pynotebook\n",
    "\n",
    "* **pyLDAvis.prepare(topic_term_dists, doc_topic_dists, doc_lengths, vocab, term_frequency, R=30, lambda_step=0.01, mds=<function js_PCoA>, n_jobs=-1, plot_opts={'xlab': 'PC1', 'ylab': 'PC2'}, sort_topics=True**"
   ]
  },
  {
   "cell_type": "code",
   "execution_count": 20,
   "metadata": {},
   "outputs": [
    {
     "data": {
      "text/html": [
       "\n",
       "<link rel=\"stylesheet\" type=\"text/css\" href=\"https://cdn.rawgit.com/bmabey/pyLDAvis/files/ldavis.v1.0.0.css\">\n",
       "\n",
       "\n",
       "<div id=\"ldavis_el965615312656729046605614268\"></div>\n",
       "<script type=\"text/javascript\">\n",
       "\n",
       "var ldavis_el965615312656729046605614268_data = {\"mdsDat\": {\"x\": [-0.08472909076966216, -0.29770841530660297, 0.1514704196463335, 0.23096708642993166], \"y\": [-0.02198959970358706, 0.05151938536851705, -0.2552937772791512, 0.2257639916142212], \"topics\": [1, 2, 3, 4], \"cluster\": [1, 1, 1, 1], \"Freq\": [35.775901794433594, 29.9622859954834, 17.572816848754883, 16.68899154663086]}, \"tinfo\": {\"Term\": [\"team\", \"com\", \"edu\", \"god\", \"game\", \"israel\", \"write\", \"hockei\", \"articl\", \"peopl\", \"isra\", \"plai\", \"bike\", \"year\", \"armenian\", \"state\", \"christian\", \"win\", \"wing\", \"jew\", \"believ\", \"turkish\", \"apr\", \"new\", \"nhl\", \"player\", \"time\", \"arab\", \"playoff\", \"go\", \"god\", \"christian\", \"believ\", \"thing\", \"evid\", \"jesu\", \"faith\", \"claim\", \"law\", \"church\", \"love\", \"christ\", \"hell\", \"bibl\", \"word\", \"life\", \"rutger\", \"truth\", \"sens\", \"book\", \"possibl\", \"author\", \"human\", \"answer\", \"accept\", \"religion\", \"discuss\", \"atho\", \"speak\", \"understand\", \"non\", \"peopl\", \"exist\", \"reason\", \"wai\", \"question\", \"read\", \"us\", \"think\", \"person\", \"mean\", \"fact\", \"edu\", \"know\", \"write\", \"point\", \"go\", \"kill\", \"end\", \"turn\", \"war\", \"happen\", \"attack\", \"littl\", \"start\", \"jewish\", \"left\", \"man\", \"told\", \"mayb\", \"old\", \"came\", \"look\", \"set\", \"head\", \"black\", \"small\", \"leav\", \"went\", \"action\", \"stop\", \"run\", \"goe\", \"took\", \"caus\", \"week\", \"hard\", \"said\", \"time\", \"thought\", \"help\", \"work\", \"seen\", \"dai\", \"like\", \"want\", \"know\", \"year\", \"come\", \"world\", \"think\", \"right\", \"live\", \"good\", \"need\", \"com\", \"israel\", \"isra\", \"bike\", \"arab\", \"motorcycl\", \"ride\", \"dod\", \"sun\", \"polici\", \"east\", \"polit\", \"jew\", \"public\", \"drive\", \"org\", \"control\", \"state\", \"report\", \"govern\", \"research\", \"peac\", \"articl\", \"countri\", \"area\", \"attempt\", \"land\", \"apr\", \"american\", \"write\", \"edu\", \"center\", \"post\", \"new\", \"opinion\", \"right\", \"case\", \"let\", \"like\", \"team\", \"game\", \"hockei\", \"plai\", \"armenian\", \"win\", \"turkish\", \"nhl\", \"player\", \"wing\", \"playoff\", \"cup\", \"goal\", \"season\", \"score\", \"leagu\", \"fan\", \"toronto\", \"armenia\", \"contact\", \"night\", \"mike\", \"pick\", \"watch\", \"guess\", \"red\", \"net\", \"list\", \"number\", \"citi\", \"new\", \"year\", \"final\", \"edu\", \"write\", \"point\", \"articl\"], \"Freq\": [1449.0, 1366.0, 2863.0, 1970.0, 1035.0, 1054.0, 2180.0, 986.0, 1685.0, 1811.0, 784.0, 728.0, 703.0, 1265.0, 611.0, 872.0, 1030.0, 572.0, 568.0, 601.0, 992.0, 560.0, 1076.0, 1224.0, 512.0, 491.0, 1403.0, 480.0, 432.0, 644.0, 1969.3179931640625, 1029.6302490234375, 991.4891967773438, 735.9124145507812, 655.110595703125, 608.4052734375, 486.2880554199219, 532.9080200195312, 485.9903869628906, 461.2947998046875, 435.7615966796875, 426.8429870605469, 467.8960266113281, 381.0796813964844, 399.8017578125, 379.636962890625, 319.2254943847656, 316.0239562988281, 336.7807312011719, 323.9540100097656, 354.7776794433594, 300.29888916015625, 288.3079833984375, 299.153564453125, 271.06756591796875, 260.696533203125, 276.07177734375, 248.78749084472656, 258.597900390625, 231.1622314453125, 258.89154052734375, 1711.4725341796875, 458.55108642578125, 780.4453125, 769.8319091796875, 502.74951171875, 443.8520202636719, 392.2906188964844, 705.3861083984375, 419.2210998535156, 382.0989990234375, 391.30096435546875, 682.8108520507812, 479.6628112792969, 513.6209716796875, 396.6337890625, 643.4121704101562, 535.2845458984375, 530.3873291015625, 497.8705139160156, 468.42559814453125, 442.39251708984375, 438.04766845703125, 424.45416259765625, 420.7889709472656, 413.5263977050781, 372.0746154785156, 350.2141418457031, 307.9302673339844, 317.8245849609375, 288.6840515136719, 284.0880432128906, 557.9746704101562, 251.34683227539062, 240.35414123535156, 230.94789123535156, 225.572265625, 222.90711975097656, 205.48260498046875, 215.29672241210938, 210.6664276123047, 215.71539306640625, 215.7193603515625, 200.59727478027344, 208.43795776367188, 196.7193145751953, 335.539306640625, 755.3629150390625, 1156.3995361328125, 328.9378967285156, 479.54339599609375, 557.3952026367188, 244.17958068847656, 528.0842895507812, 1114.5758056640625, 587.4382934570312, 900.475341796875, 697.5458984375, 484.0015869140625, 399.07391357421875, 662.3148803710938, 489.2623291015625, 439.7839660644531, 440.2791748046875, 372.2865905761719, 1365.570068359375, 1053.2703857421875, 783.2817993164062, 702.310302734375, 479.3501281738281, 332.50921630859375, 307.6636962890625, 297.30023193359375, 329.0277404785156, 177.84677124023438, 143.34982299804688, 165.14797973632812, 591.927734375, 383.45068359375, 177.74171447753906, 253.7180938720703, 120.3864974975586, 712.7528686523438, 141.4886474609375, 310.829833984375, 164.06976318359375, 194.1963653564453, 1236.0550537109375, 186.5043182373047, 123.43753051757812, 81.86933898925781, 149.26979064941406, 713.2178344726562, 214.67149353027344, 1336.3046875, 1518.7933349609375, 165.77597045898438, 314.9251403808594, 435.6883544921875, 230.4849853515625, 293.9564514160156, 171.31895446777344, 171.93246459960938, 165.89479064941406, 1448.7274169921875, 1034.2320556640625, 985.7872314453125, 727.51025390625, 610.8955078125, 572.1408081054688, 559.9647827148438, 511.32489013671875, 491.0752868652344, 567.1477661132812, 431.36065673828125, 373.7707824707031, 317.2103576660156, 302.43865966796875, 302.2847595214844, 299.1202697753906, 243.47454833984375, 241.2962188720703, 222.6685791015625, 189.83383178710938, 170.7101593017578, 132.01148986816406, 194.34420776367188, 192.87599182128906, 212.93878173828125, 116.92195892333984, 130.89398193359375, 272.7270812988281, 378.25689697265625, 154.50318908691406, 583.6248779296875, 567.0049438476562, 240.87594604492188, 662.0477905273438, 330.7164611816406, 241.78172302246094, 198.25048828125], \"Total\": [1449.0, 1366.0, 2863.0, 1970.0, 1035.0, 1054.0, 2180.0, 986.0, 1685.0, 1811.0, 784.0, 728.0, 703.0, 1265.0, 611.0, 872.0, 1030.0, 572.0, 568.0, 601.0, 992.0, 560.0, 1076.0, 1224.0, 512.0, 491.0, 1403.0, 480.0, 432.0, 644.0, 1970.1717529296875, 1030.479248046875, 992.3566284179688, 736.8504638671875, 655.9968872070312, 609.2506103515625, 487.13372802734375, 533.843994140625, 486.8700256347656, 462.1445007324219, 436.63153076171875, 427.6982727050781, 468.882080078125, 381.9244384765625, 400.7049255371094, 380.510009765625, 320.0755920410156, 316.8756103515625, 337.6962585449219, 324.86962890625, 355.7931823730469, 301.1611633300781, 289.1768493652344, 300.06964111328125, 271.9349365234375, 261.56463623046875, 277.0041809082031, 249.63784790039062, 259.504638671875, 232.04144287109375, 259.88397216796875, 1811.64013671875, 476.9554443359375, 855.5138549804688, 956.124267578125, 656.7073974609375, 578.0494995117188, 487.2404479980469, 1519.8621826171875, 604.239990234375, 519.2706298828125, 568.5361328125, 2863.955322265625, 1452.85302734375, 2180.95068359375, 744.2302856445312, 644.2659301757812, 536.1259765625, 531.2634887695312, 498.732666015625, 469.3057861328125, 443.2401123046875, 438.8970642089844, 425.31201171875, 421.6396484375, 414.4271545410156, 372.9690246582031, 351.1709899902344, 308.775146484375, 318.69915771484375, 289.5262145996094, 284.9720764160156, 559.814697265625, 252.20584106445312, 241.19284057617188, 231.79989624023438, 226.44493103027344, 223.78196716308594, 206.30209350585938, 216.159423828125, 211.5122528076172, 216.58306884765625, 216.59959411621094, 201.42916870117188, 209.3579864501953, 197.6223602294922, 340.2392272949219, 865.1205444335938, 1403.8594970703125, 348.96209716796875, 535.53271484375, 644.585205078125, 250.3343048095703, 622.5224609375, 1576.95703125, 785.7392578125, 1452.85302734375, 1265.1053466796875, 771.927978515625, 585.28564453125, 1519.8621826171875, 902.0468139648438, 782.0235595703125, 918.8818969726562, 653.9243774414062, 1366.452880859375, 1054.103271484375, 784.1131591796875, 703.1376342773438, 480.1824645996094, 333.3428955078125, 308.5032653808594, 298.13079833984375, 330.2835998535156, 178.68299865722656, 144.2931365966797, 166.28402709960938, 601.4212646484375, 391.9713134765625, 195.02447509765625, 294.57696533203125, 147.36532592773438, 872.9561767578125, 177.7549285888672, 405.2661437988281, 214.33787536621094, 261.7637023925781, 1685.8179931640625, 266.8169860839844, 178.6302947998047, 122.79377746582031, 224.3695068359375, 1076.26318359375, 334.7088928222656, 2180.95068359375, 2863.955322265625, 272.06146240234375, 698.9759521484375, 1224.91845703125, 513.5778198242188, 902.0468139648438, 374.6367492675781, 530.0684814453125, 1576.95703125, 1449.53369140625, 1035.0384521484375, 986.5894775390625, 728.3388061523438, 611.7169799804688, 572.9536743164062, 560.8120727539062, 512.125244140625, 491.8759460449219, 568.0932006835938, 432.16033935546875, 374.60552978515625, 318.0286560058594, 303.2349853515625, 303.0841979980469, 299.9253845214844, 244.2753448486328, 242.10301208496094, 223.4942626953125, 190.66244506835938, 171.57672119140625, 132.84994506835938, 204.99481201171875, 216.83218383789062, 295.8448791503906, 164.05496215820312, 188.7440948486328, 420.389404296875, 600.6728515625, 269.0572509765625, 1224.91845703125, 1265.1053466796875, 455.9471435546875, 2863.955322265625, 2180.95068359375, 744.2302856445312, 1685.8179931640625], \"Category\": [\"Default\", \"Default\", \"Default\", \"Default\", \"Default\", \"Default\", \"Default\", \"Default\", \"Default\", \"Default\", \"Default\", \"Default\", \"Default\", \"Default\", \"Default\", \"Default\", \"Default\", \"Default\", \"Default\", \"Default\", \"Default\", \"Default\", \"Default\", \"Default\", \"Default\", \"Default\", \"Default\", \"Default\", \"Default\", \"Default\", \"Topic1\", \"Topic1\", \"Topic1\", \"Topic1\", \"Topic1\", \"Topic1\", \"Topic1\", \"Topic1\", \"Topic1\", \"Topic1\", \"Topic1\", \"Topic1\", \"Topic1\", \"Topic1\", \"Topic1\", \"Topic1\", \"Topic1\", \"Topic1\", \"Topic1\", \"Topic1\", \"Topic1\", \"Topic1\", \"Topic1\", \"Topic1\", \"Topic1\", \"Topic1\", \"Topic1\", \"Topic1\", \"Topic1\", \"Topic1\", \"Topic1\", \"Topic1\", \"Topic1\", \"Topic1\", \"Topic1\", \"Topic1\", \"Topic1\", \"Topic1\", \"Topic1\", \"Topic1\", \"Topic1\", \"Topic1\", \"Topic1\", \"Topic1\", \"Topic1\", \"Topic1\", \"Topic2\", \"Topic2\", \"Topic2\", \"Topic2\", \"Topic2\", \"Topic2\", \"Topic2\", \"Topic2\", \"Topic2\", \"Topic2\", \"Topic2\", \"Topic2\", \"Topic2\", \"Topic2\", \"Topic2\", \"Topic2\", \"Topic2\", \"Topic2\", \"Topic2\", \"Topic2\", \"Topic2\", \"Topic2\", \"Topic2\", \"Topic2\", \"Topic2\", \"Topic2\", \"Topic2\", \"Topic2\", \"Topic2\", \"Topic2\", \"Topic2\", \"Topic2\", \"Topic2\", \"Topic2\", \"Topic2\", \"Topic2\", \"Topic2\", \"Topic2\", \"Topic2\", \"Topic2\", \"Topic2\", \"Topic2\", \"Topic2\", \"Topic2\", \"Topic2\", \"Topic2\", \"Topic2\", \"Topic2\", \"Topic2\", \"Topic3\", \"Topic3\", \"Topic3\", \"Topic3\", \"Topic3\", \"Topic3\", \"Topic3\", \"Topic3\", \"Topic3\", \"Topic3\", \"Topic3\", \"Topic3\", \"Topic3\", \"Topic3\", \"Topic3\", \"Topic3\", \"Topic3\", \"Topic3\", \"Topic3\", \"Topic3\", \"Topic3\", \"Topic3\", \"Topic3\", \"Topic3\", \"Topic3\", \"Topic3\", \"Topic3\", \"Topic3\", \"Topic3\", \"Topic3\", \"Topic3\", \"Topic3\", \"Topic3\", \"Topic3\", \"Topic3\", \"Topic3\", \"Topic3\", \"Topic3\", \"Topic3\", \"Topic4\", \"Topic4\", \"Topic4\", \"Topic4\", \"Topic4\", \"Topic4\", \"Topic4\", \"Topic4\", \"Topic4\", \"Topic4\", \"Topic4\", \"Topic4\", \"Topic4\", \"Topic4\", \"Topic4\", \"Topic4\", \"Topic4\", \"Topic4\", \"Topic4\", \"Topic4\", \"Topic4\", \"Topic4\", \"Topic4\", \"Topic4\", \"Topic4\", \"Topic4\", \"Topic4\", \"Topic4\", \"Topic4\", \"Topic4\", \"Topic4\", \"Topic4\", \"Topic4\", \"Topic4\", \"Topic4\", \"Topic4\", \"Topic4\"], \"logprob\": [30.0, 29.0, 28.0, 27.0, 26.0, 25.0, 24.0, 23.0, 22.0, 21.0, 20.0, 19.0, 18.0, 17.0, 16.0, 15.0, 14.0, 13.0, 12.0, 11.0, 10.0, 9.0, 8.0, 7.0, 6.0, 5.0, 4.0, 3.0, 2.0, 1.0, -3.140399932861328, -3.7888998985290527, -3.8266000747680664, -4.12470006942749, -4.241000175476074, -4.315000057220459, -4.539000034332275, -4.447500228881836, -4.539599895477295, -4.591800212860107, -4.64870023727417, -4.669400215148926, -4.577600002288818, -4.782800197601318, -4.734899997711182, -4.786600112915039, -4.95989990234375, -4.96999979019165, -4.906400203704834, -4.945199966430664, -4.854300022125244, -5.020999908447266, -5.061800003051758, -5.024899959564209, -5.123499870300293, -5.162499904632568, -5.105199813842773, -5.209199905395508, -5.170599937438965, -5.282700061798096, -5.169400215148926, -3.2806999683380127, -4.597799777984619, -4.065999984741211, -4.079699993133545, -4.50570011138916, -4.630300045013428, -4.753799915313721, -4.167099952697754, -4.687399864196777, -4.780099868774414, -4.75629997253418, -4.1996002197265625, -4.552700042724609, -4.484300136566162, -4.742800235748291, -4.081699848175049, -4.265699863433838, -4.274899959564209, -4.338099956512451, -4.399099826812744, -4.456299781799316, -4.46619987487793, -4.497700214385986, -4.506400108337402, -4.523799896240234, -4.62939977645874, -4.689899921417236, -4.818600177764893, -4.7870001792907715, -4.883200168609619, -4.899199962615967, -4.2241997718811035, -5.021699905395508, -5.066400051116943, -5.106299877166748, -5.129799842834473, -5.14169979095459, -5.223100185394287, -5.176499843597412, -5.198200225830078, -5.174499988555908, -5.174499988555908, -5.247200012207031, -5.208799839019775, -5.26669979095459, -4.732800006866455, -3.921299934387207, -3.4953999519348145, -4.752600193023682, -4.375699996948242, -4.225200176239014, -5.050600051879883, -4.279200077056885, -3.5322999954223633, -4.172699928283691, -3.7455999851226807, -4.000899791717529, -4.366399765014648, -4.559299945831299, -4.052700042724609, -4.355599880218506, -4.462200164794922, -4.461100101470947, -4.628799915313721, -2.795599937438965, -3.0552000999450684, -3.3513998985290527, -3.4605000019073486, -3.8424999713897705, -4.208199977874756, -4.285900115966797, -4.320199966430664, -4.218800067901611, -4.834000110626221, -5.049600124359131, -4.908100128173828, -3.631500005722046, -4.065700054168701, -4.83459997177124, -4.478700160980225, -5.2241997718811035, -3.4458000659942627, -5.062699794769287, -4.275700092315674, -4.914599895477295, -4.745999813079834, -2.89520001411438, -4.786399841308594, -5.19920015335083, -5.609799861907959, -5.009099960327148, -3.4451000690460205, -4.6458001136779785, -2.817199945449829, -2.689199924468994, -4.904300212860107, -4.262599945068359, -3.937999963760376, -4.574699878692627, -4.331500053405762, -4.871399879455566, -4.867800235748291, -4.903500080108643, -2.6849000453948975, -3.021899938583374, -3.0699000358581543, -3.373699903488159, -3.5483999252319336, -3.6138999462127686, -3.6354000568389893, -3.726300001144409, -3.766700029373169, -3.6226999759674072, -3.896399974822998, -4.039700031280518, -4.203700065612793, -4.251399993896484, -4.2519001960754395, -4.262499809265137, -4.468299865722656, -4.47730016708374, -4.557600021362305, -4.717199802398682, -4.823299884796143, -5.080399990081787, -4.693699836730957, -4.701300144195557, -4.60230016708374, -5.2017998695373535, -5.088900089263916, -4.354800224304199, -4.027699947357178, -4.923099994659424, -3.5940001010894775, -3.6229000091552734, -4.479000091552734, -3.4679999351501465, -4.1620001792907715, -4.475299835205078, -4.673799991607666], \"loglift\": [30.0, 29.0, 28.0, 27.0, 26.0, 25.0, 24.0, 23.0, 22.0, 21.0, 20.0, 19.0, 18.0, 17.0, 16.0, 15.0, 14.0, 13.0, 12.0, 11.0, 10.0, 9.0, 8.0, 7.0, 6.0, 5.0, 4.0, 3.0, 2.0, 1.0, 1.027500033378601, 1.0270999670028687, 1.0269999504089355, 1.0266000032424927, 1.0264999866485596, 1.0264999866485596, 1.0262000560760498, 1.0261000394821167, 1.0261000394821167, 1.0261000394821167, 1.0259000062942505, 1.0259000062942505, 1.0257999897003174, 1.0256999731063843, 1.0255999565124512, 1.0255999565124512, 1.0252000093460083, 1.0252000093460083, 1.0252000093460083, 1.0250999927520752, 1.024999976158142, 1.024999976158142, 1.024899959564209, 1.0247999429702759, 1.0247000455856323, 1.0246000289916992, 1.0245000123977661, 1.0245000123977661, 1.024399995803833, 1.0240999460220337, 1.0240999460220337, 0.9710000157356262, 0.9884999990463257, 0.9361000061035156, 0.8112000226974487, 0.760699987411499, 0.763700008392334, 0.8111000061035156, 0.26030001044273376, 0.6622999906539917, 0.7211999893188477, 0.6542999744415283, -0.4058000147342682, -0.08030000329017639, -0.4180999994277954, 0.3986000120639801, 1.2038999795913696, 1.2036999464035034, 1.2036000490188599, 1.2035000324249268, 1.2034000158309937, 1.2032999992370605, 1.2032999992370605, 1.2031999826431274, 1.2031999826431274, 1.2030999660491943, 1.2028000354766846, 1.2024999856948853, 1.2024999856948853, 1.2024999856948853, 1.202299952507019, 1.2021000385284424, 1.2019000053405762, 1.201799988746643, 1.20169997215271, 1.2015000581741333, 1.2014000415802002, 1.201300024986267, 1.201300024986267, 1.201200008392334, 1.201200008392334, 1.201200008392334, 1.201200008392334, 1.2010999917984009, 1.2007999420166016, 1.200700044631958, 1.1913000345230103, 1.069599986076355, 1.011299967765808, 1.1461000442504883, 1.0947999954223633, 1.0599000453948975, 1.180299997329712, 1.0406999588012695, 0.8582000136375427, 0.9143999814987183, 0.7268999814987183, 0.6098999977111816, 0.7383999824523926, 0.8223000168800354, 0.37459999322891235, 0.593500018119812, 0.6295999884605408, 0.46950000524520874, 0.6419000029563904, 1.7381999492645264, 1.7380000352859497, 1.7378000020980835, 1.7375999689102173, 1.7371000051498413, 1.736299991607666, 1.7360999584197998, 1.7359999418258667, 1.7350000143051147, 1.7340999841690063, 1.732300043106079, 1.7319999933242798, 1.7229000329971313, 1.7167999744415283, 1.6460000276565552, 1.5894999504089355, 1.5365999937057495, 1.5361000299453735, 1.510599970817566, 1.4735000133514404, 1.47160005569458, 1.4401999711990356, 1.4285000562667847, 1.3806999921798706, 1.3691999912261963, 1.333400011062622, 1.3313000202178955, 1.3273999691009521, 1.294700026512146, 1.2489999532699585, 1.1045000553131104, 1.243399977684021, 0.9415000081062317, 0.7050999999046326, 0.9376000165939331, 0.6176000237464905, 0.9563999772071838, 0.6129000186920166, -0.5131000280380249, 1.7898999452590942, 1.7896000146865845, 1.7896000146865845, 1.7892999649047852, 1.7891000509262085, 1.7890000343322754, 1.7889000177383423, 1.7889000177383423, 1.7888000011444092, 1.7888000011444092, 1.788599967956543, 1.7882000207901, 1.7877999544143677, 1.7877999544143677, 1.7877999544143677, 1.7877000570297241, 1.7870999574661255, 1.7870999574661255, 1.7867000102996826, 1.7861000299453735, 1.7854000329971313, 1.78410005569458, 1.7371000051498413, 1.67330002784729, 1.4615999460220337, 1.45169997215271, 1.424399971961975, 1.357699990272522, 1.3279000520706177, 1.235700011253357, 1.0490000247955322, 0.9879000186920166, 1.1523000001907349, 0.32580000162124634, -0.0957999974489212, 0.666100025177002, -0.35010001063346863]}, \"token.table\": {\"Topic\": [1, 2, 3, 4, 1, 1, 3, 4, 3, 2, 3, 4, 4, 1, 3, 4, 1, 2, 1, 3, 1, 1, 1, 3, 2, 1, 2, 1, 2, 3, 2, 2, 3, 4, 1, 1, 1, 2, 4, 1, 3, 1, 2, 4, 2, 3, 2, 3, 4, 1, 2, 1, 3, 2, 3, 3, 1, 3, 4, 2, 1, 1, 4, 1, 2, 3, 1, 4, 2, 4, 4, 2, 4, 1, 2, 1, 2, 3, 4, 2, 3, 1, 3, 4, 2, 2, 3, 2, 1, 1, 2, 4, 1, 3, 3, 1, 2, 3, 2, 2, 1, 2, 3, 2, 3, 1, 4, 2, 2, 1, 3, 4, 1, 1, 2, 3, 4, 1, 3, 4, 2, 1, 2, 3, 2, 4, 1, 2, 2, 1, 2, 3, 4, 3, 1, 2, 3, 3, 4, 1, 3, 4, 4, 4, 1, 1, 2, 3, 4, 2, 2, 3, 2, 3, 2, 3, 1, 4, 1, 2, 3, 4, 4, 4, 4, 1, 2, 4, 3, 2, 3, 1, 1, 3, 4, 3, 4, 1, 3, 1, 2, 1, 2, 3, 3, 4, 1, 3, 4, 1, 3, 3, 1, 2, 3, 2, 1, 1, 2, 4, 4, 2, 4, 1, 2, 2, 1, 2, 1, 3, 4, 2, 3, 4, 4, 1, 1, 2, 3, 4, 1, 2, 1, 2, 4, 2, 2, 4, 1, 4, 2, 1, 1, 2, 1, 4, 1, 2, 3, 2, 3, 4, 2, 2, 4, 4, 1, 1, 2, 1, 2, 1, 3, 4, 2, 4], \"Freq\": [0.9965618848800659, 0.9946362376213074, 0.6423492431640625, 0.35553282499313354, 0.9964353442192078, 0.17374932765960693, 0.6624773740768433, 0.16352877020835876, 0.9975374937057495, 0.30789849162101746, 0.6885730028152466, 0.9977884888648987, 0.9988279342651367, 0.14888913929462433, 0.7331752181053162, 0.11745040118694305, 0.9974449276924133, 0.9979560971260071, 0.32574939727783203, 0.6677863001823425, 0.9961443543434143, 0.9986329078674316, 0.9975795149803162, 0.998382031917572, 0.9965491890907288, 0.9973231554031372, 0.9965888857841492, 0.4430958926677704, 0.09876233339309692, 0.4564421474933624, 0.9935135841369629, 0.10291791707277298, 0.610156238079071, 0.28669992089271545, 0.9983673691749573, 0.9995349049568176, 0.9975234866142273, 0.4237016439437866, 0.5760855674743652, 0.9984190464019775, 0.9996685981750488, 0.3717963397502899, 0.6270015239715576, 0.9965255856513977, 0.1764322817325592, 0.8143028020858765, 0.29983097314834595, 0.7008549571037292, 0.9983835816383362, 0.1509985625743866, 0.8481621742248535, 0.9963748455047607, 0.996207058429718, 0.08716854453086853, 0.9127059578895569, 0.9910381436347961, 0.23848137259483337, 0.5303853750228882, 0.2311488538980484, 0.9976217150688171, 0.9984803199768066, 0.9623540639877319, 0.03773937374353409, 0.687731146812439, 0.18116702139377594, 0.12839992344379425, 0.9976726770401001, 0.9947790503501892, 0.469352662563324, 0.5285700559616089, 0.9989966750144958, 0.9980350732803345, 0.9967655539512634, 0.9994052648544312, 0.9972317814826965, 0.340631365776062, 0.4788428246974945, 0.05441395565867424, 0.12624038755893707, 0.23194634914398193, 0.7673969268798828, 0.07774344831705093, 0.19942884147167206, 0.7199718952178955, 0.9972021579742432, 0.9875404238700867, 0.011756434105336666, 0.9950544238090515, 0.9981187582015991, 0.10270147770643234, 0.8963037729263306, 0.9994025230407715, 0.9959303736686707, 0.9985803365707397, 0.9989533424377441, 0.9979472756385803, 0.014964552596211433, 0.9843350052833557, 0.998969316482544, 0.9978997707366943, 0.33038440346717834, 0.6194707751274109, 0.04955766350030899, 0.33427003026008606, 0.6640831232070923, 0.998212993144989, 0.9969146251678467, 0.9965056777000427, 0.9974018335342407, 0.31505364179611206, 0.3244863748550415, 0.3603307902812958, 0.9986596703529358, 0.1661427617073059, 0.7070579528808594, 0.1052660271525383, 0.022194644436240196, 0.07374115288257599, 0.275934636592865, 0.6493979096412659, 0.9969151616096497, 0.3452581465244293, 0.5626428723335266, 0.09206883609294891, 0.9967584013938904, 0.0017863053362816572, 0.9985536336898804, 0.9966654777526855, 0.997806191444397, 0.7356472015380859, 0.22916759550571442, 0.034664005041122437, 0.9936022162437439, 0.9989713430404663, 0.32113805413246155, 0.5688731074333191, 0.11010447144508362, 0.3019962012767792, 0.6940614581108093, 0.16735808551311493, 0.3559420704841614, 0.476766437292099, 0.9978027939796448, 0.9966387152671814, 0.9965986013412476, 0.09655838459730148, 0.16814477741718292, 0.1048823818564415, 0.6292942762374878, 0.998182475566864, 0.5490891337394714, 0.4478386640548706, 0.1357879489660263, 0.8622534275054932, 0.2559560239315033, 0.7411264181137085, 0.9444480538368225, 0.05519859865307808, 0.6934331059455872, 0.3045147657394409, 0.04878172278404236, 0.9463654160499573, 0.9995348453521729, 0.9982191920280457, 0.9973150491714478, 0.5334370136260986, 0.14242903888225555, 0.3251681625843048, 0.996177613735199, 0.006013806909322739, 0.9922780990600586, 0.9977706670761108, 0.3948633670806885, 0.45065927505493164, 0.15451174974441528, 0.9771122932434082, 0.020409656688570976, 0.7659423351287842, 0.23298047482967377, 0.7681003212928772, 0.23181405663490295, 0.9117327332496643, 0.06311996281147003, 0.024546651169657707, 0.2864893674850464, 0.7131755948066711, 0.9978412985801697, 0.793226957321167, 0.2025260329246521, 0.23327654600143433, 0.7651470899581909, 0.9983686804771423, 0.13192220032215118, 0.5421004891395569, 0.32592543959617615, 0.9973078966140747, 0.9966395497322083, 0.1259939968585968, 0.8727107644081116, 0.9964227676391602, 0.9959272742271423, 0.9746966361999512, 0.02396794967353344, 0.9979382157325745, 0.995218813419342, 0.9980351328849792, 0.9980553984642029, 0.9984829425811768, 0.12486308068037033, 0.8167649507522583, 0.05842217803001404, 0.9975781440734863, 0.996113657951355, 0.0030277010519057512, 0.9996318221092224, 0.9988458156585693, 0.46385785937309265, 0.4355657994747162, 0.02566022053360939, 0.07434884458780289, 0.054447174072265625, 0.9427958130836487, 0.12893028557300568, 0.8234442472457886, 0.04701325297355652, 0.9974896311759949, 0.9978693723678589, 0.9954440593719482, 0.9972367286682129, 0.9985519647598267, 0.998530924320221, 0.9955118298530579, 0.804530918598175, 0.19292323291301727, 0.8053346276283264, 0.19453538954257965, 0.13872286677360535, 0.7470671534538269, 0.1132691279053688, 0.99721759557724, 0.1060728132724762, 0.8900892734527588, 0.9968507885932922, 0.9936884045600891, 0.9983355402946472, 0.9980756640434265, 0.9982407689094543, 0.1349705159664154, 0.8641216158866882, 0.3177935481071472, 0.6817184090614319, 0.23567703366279602, 0.6125769019126892, 0.15176868438720703, 0.5517327189445496, 0.4481840133666992], \"Term\": [\"accept\", \"action\", \"american\", \"american\", \"answer\", \"apr\", \"apr\", \"apr\", \"arab\", \"area\", \"area\", \"armenia\", \"armenian\", \"articl\", \"articl\", \"articl\", \"atho\", \"attack\", \"attempt\", \"attempt\", \"author\", \"believ\", \"bibl\", \"bike\", \"black\", \"book\", \"came\", \"case\", \"case\", \"case\", \"caus\", \"center\", \"center\", \"center\", \"christ\", \"christian\", \"church\", \"citi\", \"citi\", \"claim\", \"com\", \"come\", \"come\", \"contact\", \"control\", \"control\", \"countri\", \"countri\", \"cup\", \"dai\", \"dai\", \"discuss\", \"dod\", \"drive\", \"drive\", \"east\", \"edu\", \"edu\", \"edu\", \"end\", \"evid\", \"exist\", \"exist\", \"fact\", \"fact\", \"fact\", \"faith\", \"fan\", \"final\", \"final\", \"game\", \"go\", \"goal\", \"god\", \"goe\", \"good\", \"good\", \"good\", \"good\", \"govern\", \"govern\", \"guess\", \"guess\", \"guess\", \"happen\", \"hard\", \"hard\", \"head\", \"hell\", \"help\", \"help\", \"hockei\", \"human\", \"isra\", \"israel\", \"jesu\", \"jew\", \"jew\", \"jewish\", \"kill\", \"know\", \"know\", \"know\", \"land\", \"land\", \"law\", \"leagu\", \"leav\", \"left\", \"let\", \"let\", \"let\", \"life\", \"like\", \"like\", \"like\", \"like\", \"list\", \"list\", \"list\", \"littl\", \"live\", \"live\", \"live\", \"look\", \"look\", \"love\", \"man\", \"mayb\", \"mean\", \"mean\", \"mean\", \"mike\", \"motorcycl\", \"need\", \"need\", \"need\", \"net\", \"net\", \"new\", \"new\", \"new\", \"nhl\", \"night\", \"non\", \"number\", \"number\", \"number\", \"number\", \"old\", \"opinion\", \"opinion\", \"org\", \"org\", \"peac\", \"peac\", \"peopl\", \"peopl\", \"person\", \"person\", \"pick\", \"pick\", \"plai\", \"player\", \"playoff\", \"point\", \"point\", \"point\", \"polici\", \"polit\", \"polit\", \"possibl\", \"post\", \"post\", \"post\", \"public\", \"public\", \"question\", \"question\", \"read\", \"read\", \"reason\", \"reason\", \"reason\", \"red\", \"red\", \"religion\", \"report\", \"report\", \"research\", \"research\", \"ride\", \"right\", \"right\", \"right\", \"run\", \"rutger\", \"said\", \"said\", \"score\", \"season\", \"seen\", \"seen\", \"sens\", \"set\", \"small\", \"speak\", \"start\", \"state\", \"state\", \"state\", \"stop\", \"sun\", \"sun\", \"team\", \"thing\", \"think\", \"think\", \"think\", \"think\", \"thought\", \"thought\", \"time\", \"time\", \"time\", \"told\", \"took\", \"toronto\", \"truth\", \"turkish\", \"turn\", \"understand\", \"us\", \"us\", \"wai\", \"wai\", \"want\", \"want\", \"want\", \"war\", \"watch\", \"watch\", \"week\", \"went\", \"win\", \"wing\", \"word\", \"work\", \"work\", \"world\", \"world\", \"write\", \"write\", \"write\", \"year\", \"year\"]}, \"R\": 30, \"lambda.step\": 0.01, \"plot.opts\": {\"xlab\": \"PC1\", \"ylab\": \"PC2\"}, \"topic.order\": [4, 3, 2, 1]};\n",
       "\n",
       "function LDAvis_load_lib(url, callback){\n",
       "  var s = document.createElement('script');\n",
       "  s.src = url;\n",
       "  s.async = true;\n",
       "  s.onreadystatechange = s.onload = callback;\n",
       "  s.onerror = function(){console.warn(\"failed to load library \" + url);};\n",
       "  document.getElementsByTagName(\"head\")[0].appendChild(s);\n",
       "}\n",
       "\n",
       "if(typeof(LDAvis) !== \"undefined\"){\n",
       "   // already loaded: just create the visualization\n",
       "   !function(LDAvis){\n",
       "       new LDAvis(\"#\" + \"ldavis_el965615312656729046605614268\", ldavis_el965615312656729046605614268_data);\n",
       "   }(LDAvis);\n",
       "}else if(typeof define === \"function\" && define.amd){\n",
       "   // require.js is available: use it to load d3/LDAvis\n",
       "   require.config({paths: {d3: \"https://cdnjs.cloudflare.com/ajax/libs/d3/3.5.5/d3.min\"}});\n",
       "   require([\"d3\"], function(d3){\n",
       "      window.d3 = d3;\n",
       "      LDAvis_load_lib(\"https://cdn.rawgit.com/bmabey/pyLDAvis/files/ldavis.v1.0.0.js\", function(){\n",
       "        new LDAvis(\"#\" + \"ldavis_el965615312656729046605614268\", ldavis_el965615312656729046605614268_data);\n",
       "      });\n",
       "    });\n",
       "}else{\n",
       "    // require.js not available: dynamically load d3 & LDAvis\n",
       "    LDAvis_load_lib(\"https://cdnjs.cloudflare.com/ajax/libs/d3/3.5.5/d3.min.js\", function(){\n",
       "         LDAvis_load_lib(\"https://cdn.rawgit.com/bmabey/pyLDAvis/files/ldavis.v1.0.0.js\", function(){\n",
       "                 new LDAvis(\"#\" + \"ldavis_el965615312656729046605614268\", ldavis_el965615312656729046605614268_data);\n",
       "            })\n",
       "         });\n",
       "}\n",
       "</script>"
      ],
      "text/plain": [
       "PreparedData(topic_coordinates=              x         y  topics  cluster       Freq\n",
       "topic                                                \n",
       "3     -0.084729 -0.021990       1        1  35.775902\n",
       "2     -0.297708  0.051519       2        1  29.962286\n",
       "1      0.151470 -0.255294       3        1  17.572817\n",
       "0      0.230967  0.225764       4        1  16.688992, topic_info=       Term         Freq        Total Category  logprob  loglift\n",
       "28     team  1449.000000  1449.000000  Default  30.0000  30.0000\n",
       "130     com  1366.000000  1366.000000  Default  29.0000  29.0000\n",
       "18      edu  2863.000000  2863.000000  Default  28.0000  28.0000\n",
       "42      god  1970.000000  1970.000000  Default  27.0000  27.0000\n",
       "198    game  1035.000000  1035.000000  Default  26.0000  26.0000\n",
       "..      ...          ...          ...      ...      ...      ...\n",
       "151   final   240.875946   455.947144   Topic4  -4.4790   1.1523\n",
       "18      edu   662.047791  2863.955322   Topic4  -3.4680   0.3258\n",
       "31    write   330.716461  2180.950684   Topic4  -4.1620  -0.0958\n",
       "54    point   241.781723   744.230286   Topic4  -4.4753   0.6661\n",
       "13   articl   198.250488  1685.817993   Topic4  -4.6738  -0.3501\n",
       "\n",
       "[201 rows x 6 columns], token_table=      Topic      Freq      Term\n",
       "term                           \n",
       "32        1  0.996562    accept\n",
       "321       2  0.994636    action\n",
       "204       3  0.642349  american\n",
       "204       4  0.355533  american\n",
       "157       1  0.996435    answer\n",
       "...     ...       ...       ...\n",
       "31        1  0.235677     write\n",
       "31        3  0.612577     write\n",
       "31        4  0.151769     write\n",
       "115       2  0.551733      year\n",
       "115       4  0.448184      year\n",
       "\n",
       "[256 rows x 3 columns], R=30, lambda_step=0.01, plot_opts={'xlab': 'PC1', 'ylab': 'PC2'}, topic_order=[4, 3, 2, 1])"
      ]
     },
     "execution_count": 20,
     "metadata": {},
     "output_type": "execute_result"
    }
   ],
   "source": [
    "pyLDAvis.enable_notebook() #enables automatic D3 display of prepared model data in the IPython notebook.\n",
    "\n",
    "LDAvis_prepared = prepare(lda, corpus, dictionary) #transform and prepare a LDA model’s data for visualization\n",
    "\n",
    "LDAvis_prepared #Interactive visualization"
   ]
  }
 ],
 "metadata": {
  "kernelspec": {
   "display_name": "Python 3",
   "language": "python",
   "name": "python3"
  },
  "language_info": {
   "codemirror_mode": {
    "name": "ipython",
    "version": 3
   },
   "file_extension": ".py",
   "mimetype": "text/x-python",
   "name": "python",
   "nbconvert_exporter": "python",
   "pygments_lexer": "ipython3",
   "version": "3.7.6"
  }
 },
 "nbformat": 4,
 "nbformat_minor": 4
}
