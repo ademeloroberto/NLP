{
  "nbformat": 4,
  "nbformat_minor": 0,
  "metadata": {
    "colab": {
      "name": " 4_Text_Representation_TWS",
      "provenance": [],
      "collapsed_sections": [],
      "authorship_tag": "ABX9TyM/1obAS6jPmKgJO3guRjXd",
      "include_colab_link": true
    },
    "kernelspec": {
      "name": "python3",
      "display_name": "Python 3"
    },
    "accelerator": "GPU"
  },
  "cells": [
    {
      "cell_type": "markdown",
      "metadata": {
        "id": "view-in-github",
        "colab_type": "text"
      },
      "source": [
        "<a href=\"https://colab.research.google.com/github/ademeloroberto/NLP/blob/master/4_Text_Representation_TWS.ipynb\" target=\"_parent\"><img src=\"https://colab.research.google.com/assets/colab-badge.svg\" alt=\"Open In Colab\"/></a>"
      ]
    },
    {
      "cell_type": "markdown",
      "metadata": {
        "id": "wK74EJDYheJK",
        "colab_type": "text"
      },
      "source": [
        "## Imports\n"
      ]
    },
    {
      "cell_type": "code",
      "metadata": {
        "id": "v5VK2NljUmI8",
        "colab_type": "code",
        "colab": {
          "base_uri": "https://localhost:8080/",
          "height": 329
        },
        "outputId": "0226a19c-6782-4fc3-f506-fd56adf9f2ff"
      },
      "source": [
        "!pip install transformers"
      ],
      "execution_count": 1,
      "outputs": [
        {
          "output_type": "stream",
          "text": [
            "Requirement already satisfied: transformers in /usr/local/lib/python3.6/dist-packages (2.9.1)\n",
            "Requirement already satisfied: filelock in /usr/local/lib/python3.6/dist-packages (from transformers) (3.0.12)\n",
            "Requirement already satisfied: sacremoses in /usr/local/lib/python3.6/dist-packages (from transformers) (0.0.43)\n",
            "Requirement already satisfied: numpy in /usr/local/lib/python3.6/dist-packages (from transformers) (1.18.4)\n",
            "Requirement already satisfied: tokenizers==0.7.0 in /usr/local/lib/python3.6/dist-packages (from transformers) (0.7.0)\n",
            "Requirement already satisfied: regex!=2019.12.17 in /usr/local/lib/python3.6/dist-packages (from transformers) (2019.12.20)\n",
            "Requirement already satisfied: sentencepiece in /usr/local/lib/python3.6/dist-packages (from transformers) (0.1.90)\n",
            "Requirement already satisfied: dataclasses; python_version < \"3.7\" in /usr/local/lib/python3.6/dist-packages (from transformers) (0.7)\n",
            "Requirement already satisfied: requests in /usr/local/lib/python3.6/dist-packages (from transformers) (2.23.0)\n",
            "Requirement already satisfied: tqdm>=4.27 in /usr/local/lib/python3.6/dist-packages (from transformers) (4.41.1)\n",
            "Requirement already satisfied: joblib in /usr/local/lib/python3.6/dist-packages (from sacremoses->transformers) (0.14.1)\n",
            "Requirement already satisfied: click in /usr/local/lib/python3.6/dist-packages (from sacremoses->transformers) (7.1.2)\n",
            "Requirement already satisfied: six in /usr/local/lib/python3.6/dist-packages (from sacremoses->transformers) (1.12.0)\n",
            "Requirement already satisfied: urllib3!=1.25.0,!=1.25.1,<1.26,>=1.21.1 in /usr/local/lib/python3.6/dist-packages (from requests->transformers) (1.24.3)\n",
            "Requirement already satisfied: chardet<4,>=3.0.2 in /usr/local/lib/python3.6/dist-packages (from requests->transformers) (3.0.4)\n",
            "Requirement already satisfied: certifi>=2017.4.17 in /usr/local/lib/python3.6/dist-packages (from requests->transformers) (2020.4.5.1)\n",
            "Requirement already satisfied: idna<3,>=2.5 in /usr/local/lib/python3.6/dist-packages (from requests->transformers) (2.9)\n"
          ],
          "name": "stdout"
        }
      ]
    },
    {
      "cell_type": "code",
      "metadata": {
        "id": "o_0TY9G3VCG6",
        "colab_type": "code",
        "colab": {}
      },
      "source": [
        "import pickle \n",
        "import pandas as pd\n",
        "import tensorflow_hub as hub\n",
        "import tensorflow as tf\n",
        "tf.compat.v1.disable_eager_execution()\n",
        "from gensim.test.utils import common_texts, get_tmpfile\n",
        "from gensim.models import Word2Vec\n",
        "from gensim.models.doc2vec import Doc2Vec, TaggedDocument\n",
        "from google.colab import files\n",
        "from scipy.spatial.distance import cosine\n",
        "from tensorflow.keras.preprocessing.sequence import pad_sequences\n",
        "from transformers import *"
      ],
      "execution_count": 0,
      "outputs": []
    },
    {
      "cell_type": "code",
      "metadata": {
        "id": "7i7bpSi8WCPo",
        "colab_type": "code",
        "colab": {
          "resources": {
            "http://localhost:8080/nbextensions/google.colab/files.js": {
              "data": "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",
              "ok": true,
              "headers": [
                [
                  "content-type",
                  "application/javascript"
                ]
              ],
              "status": 200,
              "status_text": "OK"
            }
          },
          "base_uri": "https://localhost:8080/",
          "height": 77
        },
        "outputId": "9bfff71e-6e18-42f5-adfb-29862c1af7af"
      },
      "source": [
        "uploaded = files.upload()"
      ],
      "execution_count": 20,
      "outputs": [
        {
          "output_type": "display_data",
          "data": {
            "text/html": [
              "\n",
              "     <input type=\"file\" id=\"files-979040db-ce3e-494e-82e6-41fab75704aa\" name=\"files[]\" multiple disabled />\n",
              "     <output id=\"result-979040db-ce3e-494e-82e6-41fab75704aa\">\n",
              "      Upload widget is only available when the cell has been executed in the\n",
              "      current browser session. Please rerun this cell to enable.\n",
              "      </output>\n",
              "      <script src=\"/nbextensions/google.colab/files.js\"></script> "
            ],
            "text/plain": [
              "<IPython.core.display.HTML object>"
            ]
          },
          "metadata": {
            "tags": []
          }
        },
        {
          "output_type": "stream",
          "text": [
            "Saving stemmed_data.p to stemmed_data (1).p\n"
          ],
          "name": "stdout"
        }
      ]
    },
    {
      "cell_type": "code",
      "metadata": {
        "id": "I8mIJ5SNXT65",
        "colab_type": "code",
        "colab": {
          "base_uri": "https://localhost:8080/",
          "height": 55
        },
        "outputId": "4e445791-93fb-48f4-ab4d-59126451892c"
      },
      "source": [
        "#loading the stemmed data with pickle\n",
        "stem_data = pickle.load( open( \"stemmed_data.p\", \"rb\" ) )\n",
        "\n",
        "#Printing first entry for inspection\n",
        "stem_data[0]"
      ],
      "execution_count": 21,
      "outputs": [
        {
          "output_type": "execute_result",
          "data": {
            "text/plain": [
              "'car wonder enlighten car saw dai door sport car look late earli call bricklin door small addit bumper separ rest bodi know tellm model engin spec year product car histori info funki look car mail thank'"
            ]
          },
          "metadata": {
            "tags": []
          },
          "execution_count": 21
        }
      ]
    },
    {
      "cell_type": "code",
      "metadata": {
        "id": "tBhzgrzFXxHK",
        "colab_type": "code",
        "colab": {
          "base_uri": "https://localhost:8080/",
          "height": 678
        },
        "outputId": "bf981612-b097-4d9c-ce93-971e8d368982"
      },
      "source": [
        "#Creation of corpus with gensim\n",
        "corpus_gen = [doc.split() for doc in stem_data]\n",
        "\n",
        "#Inspecting the first entry\n",
        "corpus_gen[0]"
      ],
      "execution_count": 22,
      "outputs": [
        {
          "output_type": "execute_result",
          "data": {
            "text/plain": [
              "['car',\n",
              " 'wonder',\n",
              " 'enlighten',\n",
              " 'car',\n",
              " 'saw',\n",
              " 'dai',\n",
              " 'door',\n",
              " 'sport',\n",
              " 'car',\n",
              " 'look',\n",
              " 'late',\n",
              " 'earli',\n",
              " 'call',\n",
              " 'bricklin',\n",
              " 'door',\n",
              " 'small',\n",
              " 'addit',\n",
              " 'bumper',\n",
              " 'separ',\n",
              " 'rest',\n",
              " 'bodi',\n",
              " 'know',\n",
              " 'tellm',\n",
              " 'model',\n",
              " 'engin',\n",
              " 'spec',\n",
              " 'year',\n",
              " 'product',\n",
              " 'car',\n",
              " 'histori',\n",
              " 'info',\n",
              " 'funki',\n",
              " 'look',\n",
              " 'car',\n",
              " 'mail',\n",
              " 'thank']"
            ]
          },
          "metadata": {
            "tags": []
          },
          "execution_count": 22
        }
      ]
    },
    {
      "cell_type": "markdown",
      "metadata": {
        "id": "rgvpIkIOYET_",
        "colab_type": "text"
      },
      "source": [
        "## Part 1: Word2vec\n"
      ]
    },
    {
      "cell_type": "markdown",
      "metadata": {
        "id": "lMrKOScnfpxS",
        "colab_type": "text"
      },
      "source": [
        "### 5. Run the following code. What is it doing? \n",
        "\n",
        "It firstly initializes the the model, then applies the embeddings to the corpus with Word2Vec(). \n",
        "\n",
        "The ***size*** argument defines the dimensionality of the of the vectors and they are usually much smaller than the amount of words in the vocabulary. \n",
        "\n",
        "The ***min_count*** defines the minimum frequency for a word to be considered."
      ]
    },
    {
      "cell_type": "code",
      "metadata": {
        "id": "SIkt1_GOYCLT",
        "colab_type": "code",
        "colab": {
          "base_uri": "https://localhost:8080/",
          "height": 74
        },
        "outputId": "677c5fe3-8d0a-4d60-faa5-2500e49fde31"
      },
      "source": [
        "#Initializing the semi-trained model\n",
        "path = get_tmpfile(\"word2vec.model\")\n",
        "\n",
        "# Applying the word2vec vectorization in the corpus\n",
        "model = Word2Vec(corpus_gen, size=100, min_count=566)\n",
        "\n",
        "#Saving the model trained on the corpus\n",
        "model.save(\"word2vec.model\")"
      ],
      "execution_count": 29,
      "outputs": [
        {
          "output_type": "stream",
          "text": [
            "/usr/local/lib/python3.6/dist-packages/smart_open/smart_open_lib.py:253: UserWarning: This function is deprecated, use smart_open.open instead. See the migration notes for details: https://github.com/RaRe-Technologies/smart_open/blob/master/README.rst#migrating-to-the-new-open-function\n",
            "  'See the migration notes for details: %s' % _MIGRATION_NOTES_URL\n"
          ],
          "name": "stderr"
        }
      ]
    },
    {
      "cell_type": "markdown",
      "metadata": {
        "id": "HPh_Ypigik66",
        "colab_type": "text"
      },
      "source": [
        "### 6. Printing the sorted features of the model\n",
        "\n",
        "***model.wv*** switches to the keyed vectors instance, which is a faster object \n",
        "**vocabulary** is like a a dictionary with all the features, which here are the **keys**"
      ]
    },
    {
      "cell_type": "code",
      "metadata": {
        "id": "IemCQcaWY2aD",
        "colab_type": "code",
        "colab": {
          "base_uri": "https://localhost:8080/",
          "height": 74
        },
        "outputId": "10bd6ada-235b-41e6-baf4-d65bee4c768f"
      },
      "source": [
        "sort_keys = sorted(model.wv.vocab.keys())\n",
        "\n",
        "#More features than in the previous exercise\n",
        "print(\"Number of features:{0}\".format(len(sort_keys)))\n",
        "print(sort_keys)"
      ],
      "execution_count": 30,
      "outputs": [
        {
          "output_type": "stream",
          "text": [
            "Number of features:479\n",
            "['abl', 'accept', 'access', 'act', 'action', 'activ', 'actual', 'addit', 'address', 'advanc', 'ago', 'agre', 'allow', 'american', 'anonym', 'answer', 'anybodi', 'appear', 'appl', 'appli', 'applic', 'appreci', 'apr', 'april', 'arab', 'area', 'argument', 'arm', 'armenian', 'articl', 'ask', 'assum', 'atheist', 'attack', 'author', 'avail', 'awai', 'bad', 'base', 'basic', 'believ', 'best', 'better', 'bibl', 'big', 'bike', 'bit', 'black', 'board', 'bodi', 'book', 'box', 'bui', 'build', 'busi', 'call', 'came', 'car', 'card', 'care', 'carri', 'case', 'caus', 'center', 'certain', 'certainli', 'chang', 'check', 'children', 'chip', 'christ', 'christian', 'church', 'citi', 'claim', 'clear', 'clinton', 'clipper', 'close', 'code', 'color', 'com', 'come', 'command', 'comment', 'commun', 'compani', 'compar', 'complet', 'concern', 'connect', 'consid', 'contact', 'contain', 'continu', 'control', 'convert', 'copi', 'correct', 'cost', 'countri', 'coupl', 'cours', 'cover', 'creat', 'crime', 'current', 'dai', 'data', 'date', 'david', 'deal', 'death', 'decid', 'defens', 'defin', 'definit', 'design', 'develop', 'devic', 'differ', 'direct', 'discuss', 'disk', 'displai', 'do', 'document', 'drive', 'driver', 'drug', 'earth', 'edu', 'effect', 'email', 'encrypt', 'end', 'engin', 'entri', 'error', 'event', 'evid', 'exampl', 'exist', 'expect', 'experi', 'explain', 'face', 'fact', 'faith', 'faq', 'far', 'fast', 'fax', 'feel', 'figur', 'file', 'final', 'follow', 'forc', 'form', 'format', 'free', 'friend', 'ftp', 'function', 'game', 'gener', 'get', 'give', 'given', 'go', 'goal', 'god', 'good', 'got', 'gov', 'govern', 'graphic', 'great', 'ground', 'group', 'guess', 'gui', 'gun', 'hand', 'happen', 'hard', 'hardwar', 'have', 'head', 'hear', 'heard', 'hell', 'help', 'high', 'histori', 'hit', 'hockei', 'hold', 'home', 'hope', 'hous', 'human', 'ibm', 'idea', 'imag', 'import', 'includ', 'individu', 'info', 'inform', 'instal', 'instead', 'interest', 'intern', 'internet', 'involv', 'isn', 'isra', 'israel', 'issu', 'jesu', 'jew', 'jewish', 'job', 'john', 'kei', 'kill', 'kind', 'know', 'known', 'land', 'larg', 'later', 'law', 'lead', 'learn', 'leav', 'left', 'legal', 'let', 'level', 'life', 'light', 'like', 'limit', 'line', 'list', 'littl', 'live', 'local', 'long', 'look', 'lot', 'love', 'low', 'mac', 'machin', 'mail', 'major', 'make', 'man', 'manag', 'mark', 'matter', 'max', 'mayb', 'mean', 'member', 'memori', 'men', 'mention', 'messag', 'michael', 'mike', 'mind', 'mit', 'mode', 'model', 'monei', 'monitor', 'month', 'moral', 'nasa', 'nation', 'natur', 'need', 'net', 'netcom', 'network', 'new', 'nice', 'non', 'note', 'number', 'object', 'offer', 'offic', 'old', 'open', 'oper', 'opinion', 'option', 'order', 'org', 'organ', 'origin', 'output', 'packag', 'pai', 'pass', 'paul', 'peopl', 'perform', 'period', 'person', 'phone', 'place', 'plai', 'plan', 'player', 'point', 'polic', 'polit', 'posit', 'possibl', 'post', 'power', 'present', 'presid', 'press', 'pretti', 'price', 'privat', 'probabl', 'problem', 'process', 'product', 'program', 'project', 'propos', 'protect', 'provid', 'pub', 'public', 'purpos', 'question', 'quot', 'rate', 'read', 'real', 'reason', 'receiv', 'recent', 'record', 'refer', 'relat', 'releas', 'religion', 'rememb', 'repli', 'report', 'request', 'requir', 'research', 'respons', 'result', 'return', 'right', 'road', 'rule', 'run', 'sai', 'said', 'sale', 'save', 'saw', 'school', 'scienc', 'screen', 'scsi', 'season', 'second', 'secur', 'seen', 'sell', 'send', 'sens', 'server', 'servic', 'set', 'show', 'similar', 'simpli', 'singl', 'site', 'situat', 'size', 'small', 'softwar', 'sort', 'sound', 'sourc', 'space', 'speak', 'specif', 'speed', 'stand', 'standard', 'start', 'state', 'statement', 'steve', 'stop', 'studi', 'stuff', 'subject', 'suggest', 'sun', 'support', 'suppos', 'sure', 'system', 'take', 'talk', 'team', 'technolog', 'tell', 'term', 'test', 'text', 'thank', 'thing', 'think', 'thought', 'time', 'todai', 'told', 'took', 'total', 'tri', 'true', 'truth', 'try', 'turkish', 'turn', 'type', 'understand', 'unit', 'univers', 'us', 'user', 'usual', 'uucp', 'valu', 'version', 'video', 'view', 'wai', 'want', 'war', 'washington', 'weapon', 'week', 'went', 'white', 'win', 'window', 'won', 'wonder', 'word', 'work', 'world', 'wouldn', 'write', 'wrong', 'wrote', 'ye', 'year']\n"
          ],
          "name": "stdout"
        }
      ]
    },
    {
      "cell_type": "markdown",
      "metadata": {
        "id": "dWEw1K-pkiOV",
        "colab_type": "text"
      },
      "source": [
        "### 7. What is it doing? Why does it have this size?\n",
        "\n",
        "This is the embedding of the word car. It has size 100 as specified in the model\n"
      ]
    },
    {
      "cell_type": "code",
      "metadata": {
        "id": "4sDI3KanZGJ5",
        "colab_type": "code",
        "colab": {
          "base_uri": "https://localhost:8080/",
          "height": 495
        },
        "outputId": "f1a7bad9-7f67-4592-a9be-df6832dae631"
      },
      "source": [
        "model.wv['car']"
      ],
      "execution_count": 31,
      "outputs": [
        {
          "output_type": "execute_result",
          "data": {
            "text/plain": [
              "array([ 2.89270461e-01,  3.56097639e-01,  1.55491209e+00,  7.90810764e-01,\n",
              "        6.04174554e-01, -2.26600456e+00, -1.13651395e+00,  9.45448428e-02,\n",
              "        5.10549903e-01,  3.75015378e-01,  9.19083595e-01, -7.19342768e-01,\n",
              "       -4.55295682e-01,  3.46886069e-01,  8.00976634e-01,  6.72929764e-01,\n",
              "       -1.27272534e+00,  1.22383928e+00,  2.30230522e+00,  5.19834161e-01,\n",
              "        5.94439805e-01, -6.80355370e-01,  1.56069243e+00,  7.57847011e-01,\n",
              "       -2.20030874e-01,  1.13642859e+00, -1.03924894e+00, -9.31034684e-02,\n",
              "        1.02430470e-01, -2.00943828e-01,  7.52950907e-01, -1.10908806e+00,\n",
              "        3.15130651e-01,  3.52427214e-01, -4.30409946e-02,  2.76991516e-01,\n",
              "       -1.29413199e+00,  1.14755142e+00, -8.28538597e-01,  1.17627895e+00,\n",
              "       -5.53623557e-01,  4.07995701e-01, -1.15104645e-01, -2.26401019e+00,\n",
              "        4.46082383e-01,  9.14768755e-01, -1.84416622e-01,  1.67532980e+00,\n",
              "       -1.89314973e+00,  1.75615355e-01, -1.40997686e-03,  9.84098911e-01,\n",
              "       -1.80960417e-01,  3.91319185e-01,  2.17824385e-01,  1.05247355e+00,\n",
              "       -7.80020058e-01, -1.45628619e+00, -4.52061355e-01, -5.16045511e-01,\n",
              "        1.07033634e+00,  6.71851218e-01,  1.17265153e+00,  7.51829803e-01,\n",
              "       -7.82572150e-01,  5.47038555e-01, -7.03621566e-01,  6.98553860e-01,\n",
              "       -2.38309726e-01,  9.15992379e-01, -7.48984277e-01, -1.31786799e+00,\n",
              "        4.96419013e-01, -1.71709314e-01,  2.17420146e-01, -3.69646072e-01,\n",
              "       -9.49134588e-01, -1.94622763e-02,  1.17046046e+00, -8.56619298e-01,\n",
              "       -2.41150647e-01, -9.06074464e-01,  3.78526151e-01,  5.86896122e-01,\n",
              "        2.98089892e-01,  1.10374343e+00, -6.72113657e-01, -6.25108957e-01,\n",
              "        3.56170148e-01,  1.98637381e-01,  2.35517710e-01,  5.80958307e-01,\n",
              "        1.07233572e+00,  7.18210340e-01,  1.60799670e+00,  8.21683835e-03,\n",
              "        6.56589091e-01,  9.31818068e-01,  1.24980664e+00, -8.55729222e-01],\n",
              "      dtype=float32)"
            ]
          },
          "metadata": {
            "tags": []
          },
          "execution_count": 31
        }
      ]
    },
    {
      "cell_type": "markdown",
      "metadata": {
        "id": "Pc8FsJmtliLa",
        "colab_type": "text"
      },
      "source": [
        "### 8. Does the result make sense?\n",
        "\n",
        "In the resul there are words that are similar in meaning to \"car\", like \"bike\", or that obviously have something to do with it, like \"road\" or \"speed\". The others could probably appear together with car in a sentence. But there are two words that don't exist, because of stemming."
      ]
    },
    {
      "cell_type": "code",
      "metadata": {
        "id": "zwiddnS3ZQXV",
        "colab_type": "code",
        "colab": {
          "base_uri": "https://localhost:8080/",
          "height": 257
        },
        "outputId": "f09ea9d8-07f5-44b1-dac8-a6edb5636ac6"
      },
      "source": [
        "model.wv.most_similar('car')"
      ],
      "execution_count": 32,
      "outputs": [
        {
          "output_type": "stream",
          "text": [
            "/usr/local/lib/python3.6/dist-packages/gensim/matutils.py:737: FutureWarning: Conversion of the second argument of issubdtype from `int` to `np.signedinteger` is deprecated. In future, it will be treated as `np.int64 == np.dtype(int).type`.\n",
            "  if np.issubdtype(vec.dtype, np.int):\n"
          ],
          "name": "stderr"
        },
        {
          "output_type": "execute_result",
          "data": {
            "text/plain": [
              "[('bike', 0.6222044229507446),\n",
              " ('road', 0.5955959558486938),\n",
              " ('bui', 0.5882032513618469),\n",
              " ('nice', 0.48737001419067383),\n",
              " ('price', 0.4537433385848999),\n",
              " ('turn', 0.4435029625892639),\n",
              " ('get', 0.4434714615345001),\n",
              " ('pretti', 0.4403543174266815),\n",
              " ('friend', 0.4373258948326111),\n",
              " ('pai', 0.43375539779663086)]"
            ]
          },
          "metadata": {
            "tags": []
          },
          "execution_count": 32
        }
      ]
    },
    {
      "cell_type": "markdown",
      "metadata": {
        "id": "gMPHeDqnnAUT",
        "colab_type": "text"
      },
      "source": [
        "### What is it doing? Test other combinations.\n",
        "\n",
        "**most_similar** method finds the top-N most similar words, based on cosine similarity. Positive words contribute positively towards the similarity, negative words negatively."
      ]
    },
    {
      "cell_type": "code",
      "metadata": {
        "id": "5SjzBalpZYFy",
        "colab_type": "code",
        "colab": {
          "base_uri": "https://localhost:8080/",
          "height": 92
        },
        "outputId": "440ce0a2-a426-403d-ab62-0cc260001c89"
      },
      "source": [
        "model.wv.most_similar(positive=['bike', 'engin'], topn=1)"
      ],
      "execution_count": 12,
      "outputs": [
        {
          "output_type": "stream",
          "text": [
            "/usr/local/lib/python3.6/dist-packages/gensim/matutils.py:737: FutureWarning: Conversion of the second argument of issubdtype from `int` to `np.signedinteger` is deprecated. In future, it will be treated as `np.int64 == np.dtype(int).type`.\n",
            "  if np.issubdtype(vec.dtype, np.int):\n"
          ],
          "name": "stderr"
        },
        {
          "output_type": "execute_result",
          "data": {
            "text/plain": [
              "[('car', 0.6173257827758789)]"
            ]
          },
          "metadata": {
            "tags": []
          },
          "execution_count": 12
        }
      ]
    },
    {
      "cell_type": "code",
      "metadata": {
        "id": "N3YMgxkenKnZ",
        "colab_type": "code",
        "colab": {
          "base_uri": "https://localhost:8080/",
          "height": 129
        },
        "outputId": "5d5e3de6-b50b-47f8-dd93-09850b8f1bd4"
      },
      "source": [
        "model.wv.most_similar(positive=['american', 'arab'], topn=3)"
      ],
      "execution_count": 33,
      "outputs": [
        {
          "output_type": "stream",
          "text": [
            "/usr/local/lib/python3.6/dist-packages/gensim/matutils.py:737: FutureWarning: Conversion of the second argument of issubdtype from `int` to `np.signedinteger` is deprecated. In future, it will be treated as `np.int64 == np.dtype(int).type`.\n",
            "  if np.issubdtype(vec.dtype, np.int):\n"
          ],
          "name": "stderr"
        },
        {
          "output_type": "execute_result",
          "data": {
            "text/plain": [
              "[('isra', 0.7632189989089966),\n",
              " ('countri', 0.726310670375824),\n",
              " ('israel', 0.6710891723632812)]"
            ]
          },
          "metadata": {
            "tags": []
          },
          "execution_count": 33
        }
      ]
    },
    {
      "cell_type": "code",
      "metadata": {
        "id": "9RCof6-uoFc6",
        "colab_type": "code",
        "colab": {
          "base_uri": "https://localhost:8080/",
          "height": 92
        },
        "outputId": "e5800c9e-2c9f-4787-c266-ae8003a0acc4"
      },
      "source": [
        "#Whaaaaat?\n",
        "model.wv.most_similar(negative=['allow'], topn=1)"
      ],
      "execution_count": 34,
      "outputs": [
        {
          "output_type": "stream",
          "text": [
            "/usr/local/lib/python3.6/dist-packages/gensim/matutils.py:737: FutureWarning: Conversion of the second argument of issubdtype from `int` to `np.signedinteger` is deprecated. In future, it will be treated as `np.int64 == np.dtype(int).type`.\n",
            "  if np.issubdtype(vec.dtype, np.int):\n"
          ],
          "name": "stderr"
        },
        {
          "output_type": "execute_result",
          "data": {
            "text/plain": [
              "[('quot', 0.48397934436798096)]"
            ]
          },
          "metadata": {
            "tags": []
          },
          "execution_count": 34
        }
      ]
    },
    {
      "cell_type": "markdown",
      "metadata": {
        "id": "Yzis0n_joWQv",
        "colab_type": "text"
      },
      "source": [
        "### 10. Corpus as a list\n",
        "\n",
        "1st step: List of vectors by document"
      ]
    },
    {
      "cell_type": "code",
      "metadata": {
        "id": "N8La-6D-22C7",
        "colab_type": "code",
        "colab": {}
      },
      "source": [
        "#Corpus in a list of word vectors per document. Each entry is a list of vectors\n",
        "corpus_list = []\n",
        "for doc in corpus_gen:\n",
        "  doc_vecs = []\n",
        "  \n",
        "  for word in doc:\n",
        "    #Not all words from the corpus are in the vocabulary, so we try, otherwise pass\n",
        "    try:\n",
        "      vector = model.wv[str(word)] # Fetches word vector\n",
        "      doc_vecs.append(vector) # appends to the list for that document\n",
        "\n",
        "    except:\n",
        "      pass\n",
        "  corpus_list.append(doc_vecs) #appends the document list to the corpus"
      ],
      "execution_count": 0,
      "outputs": []
    },
    {
      "cell_type": "markdown",
      "metadata": {
        "id": "BaE6t4UEFb7I",
        "colab_type": "text"
      },
      "source": [
        "2nd step: Remove empty documents.\n",
        "\n",
        "Some documents disappear completely. Probably because all the words in them were filtered out in the creation of the vocabulary. "
      ]
    },
    {
      "cell_type": "code",
      "metadata": {
        "id": "U81k_fzrDQoP",
        "colab_type": "code",
        "colab": {
          "base_uri": "https://localhost:8080/",
          "height": 54
        },
        "outputId": "63aa93dc-4a83-48a4-b5aa-283ecea99cd3"
      },
      "source": [
        "df_index = [] #Initializing a list to store the document numbers that remain. Will be used as index in later DF\n",
        "\n",
        "#Removing documents that are empty\n",
        "for i, doc in enumerate(corpus_list):\n",
        "  if len(doc)!=0:\n",
        "    idx = \"Doc:{:d}\".format(i)\n",
        "    df_index.append(idx)\n",
        "    \n",
        "  else: \n",
        "    corpus_list.pop(i)\n",
        "\n",
        "print(len(df_index))\n",
        "print(len(corpus_list))\n",
        "#What the hell happened to the difference????"
      ],
      "execution_count": 36,
      "outputs": [
        {
          "output_type": "stream",
          "text": [
            "11286\n",
            "11300\n"
          ],
          "name": "stdout"
        }
      ]
    },
    {
      "cell_type": "code",
      "metadata": {
        "id": "Rl07F6i4GvI3",
        "colab_type": "code",
        "colab": {}
      },
      "source": [
        "#Making sure they are gone\n",
        "for i,doc in enumerate(corpus_list):\n",
        "  if len(doc)==0:\n",
        "    print(i)\n",
        "  else: pass\n"
      ],
      "execution_count": 0,
      "outputs": []
    },
    {
      "cell_type": "markdown",
      "metadata": {
        "id": "rVYkfyvAIL_Q",
        "colab_type": "text"
      },
      "source": [
        "3rd step: Aggregating over the docs by averaging the word vectors"
      ]
    },
    {
      "cell_type": "code",
      "metadata": {
        "id": "QYZhEAYUJLxG",
        "colab_type": "code",
        "colab": {
          "base_uri": "https://localhost:8080/",
          "height": 403
        },
        "outputId": "7a7a590d-5d27-42cb-f699-c843a615af83"
      },
      "source": [
        "import statistics\n",
        "\n",
        "aggregated_corpus=[]\n",
        "\n",
        "for i, doc in enumerate(corpus_list):\n",
        "  agg_vec = sum(corpus_list[i])/len(corpus_list[i]) # averaging word embeddings\n",
        "  aggregated_corpus.append(agg_vec)\n",
        "\n",
        "# Inspection\n",
        "aggregated_corpus[0]"
      ],
      "execution_count": 38,
      "outputs": [
        {
          "output_type": "execute_result",
          "data": {
            "text/plain": [
              "array([ 0.00643781,  0.30288664,  0.5497006 ,  0.3031846 ,  0.05566619,\n",
              "       -0.72407854, -0.22747386, -0.05937818,  0.36349872,  0.18746507,\n",
              "        0.04106665, -0.31430012, -0.01761887,  0.1668499 ,  0.19513252,\n",
              "        0.40310994, -0.5118265 ,  0.6142173 ,  0.7587274 ,  0.21016058,\n",
              "       -0.06404288, -0.29153585,  0.5412847 ,  0.09401475, -0.20848793,\n",
              "        0.27325368, -0.13280992, -0.2145116 ,  0.01695441,  0.03170156,\n",
              "        0.49110872, -0.5618799 ,  0.11209279, -0.10542342,  0.02220461,\n",
              "       -0.00335944, -0.29576388,  0.3915769 , -0.19757347,  0.4159963 ,\n",
              "       -0.17209695, -0.13548131, -0.22453617, -0.57231075,  0.08250053,\n",
              "        0.26258639, -0.0031302 ,  0.30048236, -0.4621775 ,  0.09028091,\n",
              "        0.08153309,  0.65849173, -0.13886385,  0.07235072, -0.06470609,\n",
              "        0.16211103, -0.32549614, -0.29767817, -0.01541548, -0.16762783,\n",
              "        0.35570705,  0.26757276,  0.45217025,  0.04964275,  0.06814805,\n",
              "        0.23626289, -0.27770352,  0.16284151, -0.08881168,  0.20128408,\n",
              "       -0.28602374, -0.35022384,  0.19584486, -0.287055  ,  0.29970914,\n",
              "       -0.06223161, -0.42403013, -0.21393162,  0.53460467, -0.34233436,\n",
              "        0.1509619 , -0.08424729,  0.14568077,  0.44054613,  0.33367917,\n",
              "        0.306189  , -0.01455653, -0.19890869,  0.15589473, -0.06690963,\n",
              "        0.28280044,  0.12019659,  0.26119134,  0.1974529 ,  0.23509125,\n",
              "       -0.16707017,  0.261645  ,  0.31175423,  0.07016438, -0.35532779],\n",
              "      dtype=float32)"
            ]
          },
          "metadata": {
            "tags": []
          },
          "execution_count": 38
        }
      ]
    },
    {
      "cell_type": "code",
      "metadata": {
        "id": "cPKd5DWILR-J",
        "colab_type": "code",
        "colab": {
          "base_uri": "https://localhost:8080/",
          "height": 206
        },
        "outputId": "ba3e7181-4a7a-4fb2-8fa8-b41cef2a5cf7"
      },
      "source": [
        "corpus_df = pd.DataFrame(data={\"Agg_Vec\":aggregated_corpus})\n",
        "corpus_df.tail()"
      ],
      "execution_count": 39,
      "outputs": [
        {
          "output_type": "execute_result",
          "data": {
            "text/html": [
              "<div>\n",
              "<style scoped>\n",
              "    .dataframe tbody tr th:only-of-type {\n",
              "        vertical-align: middle;\n",
              "    }\n",
              "\n",
              "    .dataframe tbody tr th {\n",
              "        vertical-align: top;\n",
              "    }\n",
              "\n",
              "    .dataframe thead th {\n",
              "        text-align: right;\n",
              "    }\n",
              "</style>\n",
              "<table border=\"1\" class=\"dataframe\">\n",
              "  <thead>\n",
              "    <tr style=\"text-align: right;\">\n",
              "      <th></th>\n",
              "      <th>Agg_Vec</th>\n",
              "    </tr>\n",
              "  </thead>\n",
              "  <tbody>\n",
              "    <tr>\n",
              "      <th>11295</th>\n",
              "      <td>[0.0059302617, 0.23626538, 0.3143413, 0.123850...</td>\n",
              "    </tr>\n",
              "    <tr>\n",
              "      <th>11296</th>\n",
              "      <td>[-0.0046998826, -0.33476433, 0.3424957, 0.0108...</td>\n",
              "    </tr>\n",
              "    <tr>\n",
              "      <th>11297</th>\n",
              "      <td>[-0.2745198, -0.08290829, -0.029356351, 0.0178...</td>\n",
              "    </tr>\n",
              "    <tr>\n",
              "      <th>11298</th>\n",
              "      <td>[-0.30721906, 0.21376261, 0.24997072, -0.08910...</td>\n",
              "    </tr>\n",
              "    <tr>\n",
              "      <th>11299</th>\n",
              "      <td>[-0.0575184, 0.091887355, 0.100433245, 0.18802...</td>\n",
              "    </tr>\n",
              "  </tbody>\n",
              "</table>\n",
              "</div>"
            ],
            "text/plain": [
              "                                                 Agg_Vec\n",
              "11295  [0.0059302617, 0.23626538, 0.3143413, 0.123850...\n",
              "11296  [-0.0046998826, -0.33476433, 0.3424957, 0.0108...\n",
              "11297  [-0.2745198, -0.08290829, -0.029356351, 0.0178...\n",
              "11298  [-0.30721906, 0.21376261, 0.24997072, -0.08910...\n",
              "11299  [-0.0575184, 0.091887355, 0.100433245, 0.18802..."
            ]
          },
          "metadata": {
            "tags": []
          },
          "execution_count": 39
        }
      ]
    },
    {
      "cell_type": "markdown",
      "metadata": {
        "id": "EzT0XCaPUdnH",
        "colab_type": "text"
      },
      "source": [
        "### 11. Finding words similar to the first document's embedding"
      ]
    },
    {
      "cell_type": "code",
      "metadata": {
        "id": "P0-rGiIMS2iW",
        "colab_type": "code",
        "colab": {
          "base_uri": "https://localhost:8080/",
          "height": 257
        },
        "outputId": "a0e1b861-6388-49d3-ac33-ebb34e70ae5d"
      },
      "source": [
        "model.wv.most_similar(positive=[corpus_df[\"Agg_Vec\"][0]],topn=10)"
      ],
      "execution_count": 40,
      "outputs": [
        {
          "output_type": "stream",
          "text": [
            "/usr/local/lib/python3.6/dist-packages/gensim/matutils.py:737: FutureWarning: Conversion of the second argument of issubdtype from `int` to `np.signedinteger` is deprecated. In future, it will be treated as `np.int64 == np.dtype(int).type`.\n",
            "  if np.issubdtype(vec.dtype, np.int):\n"
          ],
          "name": "stderr"
        },
        {
          "output_type": "execute_result",
          "data": {
            "text/plain": [
              "[('car', 0.8754845261573792),\n",
              " ('bui', 0.5992928743362427),\n",
              " ('bike', 0.5645782351493835),\n",
              " ('nice', 0.546980619430542),\n",
              " ('price', 0.5321383476257324),\n",
              " ('look', 0.5248813629150391),\n",
              " ('friend', 0.5241981148719788),\n",
              " ('road', 0.523826003074646),\n",
              " ('lot', 0.4923211932182312),\n",
              " ('pretti', 0.49011629819869995)]"
            ]
          },
          "metadata": {
            "tags": []
          },
          "execution_count": 40
        }
      ]
    },
    {
      "cell_type": "code",
      "metadata": {
        "id": "zsfog-LrUcHg",
        "colab_type": "code",
        "colab": {
          "base_uri": "https://localhost:8080/",
          "height": 81
        },
        "outputId": "660d84a8-8a20-441b-fc4b-36993b2356fd"
      },
      "source": [
        "#10 Mos similar documents to the first with cosine()\n",
        "\n",
        "#Initializing empty column\n",
        "corpus_df[\"Cos_diff\"] = \"\" \n",
        "\n",
        "#Filling it up with cosine difference\n",
        "for row in range(len(corpus_df)):\n",
        "  diff = cosine(corpus_df[\"Agg_Vec\"][0],corpus_df[\"Agg_Vec\"][row])\n",
        "  corpus_df[\"Cos_diff\"][row] = diff\n",
        "\n",
        "#Sort by difference to get the 10 most similar documents\n",
        "corpus_df.sort_values(by = [\"Cos_diff\"], ascending=False).head(1)"
      ],
      "execution_count": 62,
      "outputs": [
        {
          "output_type": "execute_result",
          "data": {
            "text/html": [
              "<div>\n",
              "<style scoped>\n",
              "    .dataframe tbody tr th:only-of-type {\n",
              "        vertical-align: middle;\n",
              "    }\n",
              "\n",
              "    .dataframe tbody tr th {\n",
              "        vertical-align: top;\n",
              "    }\n",
              "\n",
              "    .dataframe thead th {\n",
              "        text-align: right;\n",
              "    }\n",
              "</style>\n",
              "<table border=\"1\" class=\"dataframe\">\n",
              "  <thead>\n",
              "    <tr style=\"text-align: right;\">\n",
              "      <th></th>\n",
              "      <th>Agg_Vec</th>\n",
              "      <th>Cos_diff</th>\n",
              "    </tr>\n",
              "  </thead>\n",
              "  <tbody>\n",
              "    <tr>\n",
              "      <th>7920</th>\n",
              "      <td>[0.3580134, -0.23306827, -0.00912115, -0.76913...</td>\n",
              "      <td>1.33606</td>\n",
              "    </tr>\n",
              "  </tbody>\n",
              "</table>\n",
              "</div>"
            ],
            "text/plain": [
              "                                                Agg_Vec Cos_diff\n",
              "7920  [0.3580134, -0.23306827, -0.00912115, -0.76913...  1.33606"
            ]
          },
          "metadata": {
            "tags": []
          },
          "execution_count": 62
        }
      ]
    },
    {
      "cell_type": "markdown",
      "metadata": {
        "id": "8I_yzEmzsNDs",
        "colab_type": "text"
      },
      "source": [
        "## Part 2: Doc2Vec"
      ]
    },
    {
      "cell_type": "code",
      "metadata": {
        "id": "-124Tx3ksMJx",
        "colab_type": "code",
        "colab": {
          "base_uri": "https://localhost:8080/",
          "height": 74
        },
        "outputId": "a12742d6-3cad-43a0-a46d-5cacd0388958"
      },
      "source": [
        "path = get_tmpfile(\"doc2vec.model\")\n",
        "\n",
        "#Tagging Documents \n",
        "documents = [TaggedDocument(doc, [i]) for i, doc in enumerate(corpus_gen)]\n",
        "\n",
        "#Embedding the documents\n",
        "model_2 = Doc2Vec(documents,vector_size=100, min_count=566)\n",
        "\n",
        "#Saving the model\n",
        "model_2.save(\"doc2vec.model\")"
      ],
      "execution_count": 59,
      "outputs": [
        {
          "output_type": "stream",
          "text": [
            "/usr/local/lib/python3.6/dist-packages/smart_open/smart_open_lib.py:253: UserWarning: This function is deprecated, use smart_open.open instead. See the migration notes for details: https://github.com/RaRe-Technologies/smart_open/blob/master/README.rst#migrating-to-the-new-open-function\n",
            "  'See the migration notes for details: %s' % _MIGRATION_NOTES_URL\n"
          ],
          "name": "stderr"
        }
      ]
    },
    {
      "cell_type": "code",
      "metadata": {
        "id": "Yppz86_LtwEg",
        "colab_type": "code",
        "colab": {
          "base_uri": "https://localhost:8080/",
          "height": 329
        },
        "outputId": "c02fbd08-c4b9-4b21-e2fb-119710539a40"
      },
      "source": [
        "#Embedding for first document\n",
        "print(model_2.docvecs[0])"
      ],
      "execution_count": 60,
      "outputs": [
        {
          "output_type": "stream",
          "text": [
            "[ 0.00972918  0.00071296  0.07667181  0.03029703  0.01106244 -0.01665552\n",
            " -0.00912527  0.02227012  0.02270183 -0.00818442  0.00954943 -0.08297683\n",
            "  0.03047307  0.00853354  0.01203431  0.02110174 -0.0110323   0.00975181\n",
            "  0.08480683 -0.05316616 -0.04978074 -0.02859368 -0.02047034 -0.00801188\n",
            " -0.0517784   0.0306635  -0.01775731  0.01150088  0.03302007  0.03452224\n",
            "  0.00608495 -0.0516906   0.05132336 -0.00944382 -0.01435179 -0.02744941\n",
            " -0.08588918  0.00351805  0.04534864  0.05504965 -0.00176134 -0.05753927\n",
            " -0.03099359 -0.03367896  0.01842612  0.00637645 -0.0160136   0.05403558\n",
            " -0.01952287  0.03654424  0.02020538  0.07195251  0.00239806 -0.0088299\n",
            " -0.03431541  0.02669615 -0.04358088  0.00492199  0.01744787 -0.00894328\n",
            "  0.03777301  0.0411777   0.08879827 -0.00637643  0.02517653  0.02706092\n",
            " -0.02798073 -0.00333185 -0.014855   -0.01085704 -0.01951015 -0.01528749\n",
            "  0.00657986  0.00060756  0.05897676  0.00039679 -0.05798182 -0.02225028\n",
            "  0.04820471 -0.05005228  0.00236506 -0.00549161 -0.0189895   0.07696351\n",
            "  0.03998378  0.05393993 -0.01844168 -0.04118389  0.02440985  0.0048704\n",
            "  0.00807011  0.00598789  0.01532819 -0.00191159  0.02555225 -0.0213335\n",
            "  0.05002221  0.06202091  0.00652534 -0.040679  ]\n"
          ],
          "name": "stdout"
        }
      ]
    },
    {
      "cell_type": "code",
      "metadata": {
        "id": "UiyhM5XIxND4",
        "colab_type": "code",
        "colab": {
          "base_uri": "https://localhost:8080/",
          "height": 92
        },
        "outputId": "068c09ae-7790-4e11-c239-513566682243"
      },
      "source": [
        "#Document most similar to the first: Quite different from the previous attempt\n",
        "model_2.docvecs.most_similar([0],topn=1)"
      ],
      "execution_count": 61,
      "outputs": [
        {
          "output_type": "stream",
          "text": [
            "/usr/local/lib/python3.6/dist-packages/gensim/matutils.py:737: FutureWarning: Conversion of the second argument of issubdtype from `int` to `np.signedinteger` is deprecated. In future, it will be treated as `np.int64 == np.dtype(int).type`.\n",
            "  if np.issubdtype(vec.dtype, np.int):\n"
          ],
          "name": "stderr"
        },
        {
          "output_type": "execute_result",
          "data": {
            "text/plain": [
              "[(958, 0.925376832485199)]"
            ]
          },
          "metadata": {
            "tags": []
          },
          "execution_count": 61
        }
      ]
    },
    {
      "cell_type": "code",
      "metadata": {
        "id": "q1Txh0gtyc_r",
        "colab_type": "code",
        "colab": {
          "base_uri": "https://localhost:8080/",
          "height": 206
        },
        "outputId": "d69b897a-eb94-4e6c-f1ad-26200591133c"
      },
      "source": [
        "#Making a list of doc_vecs\n",
        "doc_list = [model_2.docvecs[i] for i in range(len(documents))]\n",
        "\n",
        "#Making a list for indexes\n",
        "idx_list = [\"Doc:{0}\".format(i) for i in range(len(documents))]\n",
        "\n",
        "#Creating DF\n",
        "corpus_df2 = pd.DataFrame(data={\"Doc_Vec\":doc_list}, index=idx_list)\n",
        "\n",
        "#Inspection with head()\n",
        "corpus_df2.head()"
      ],
      "execution_count": 69,
      "outputs": [
        {
          "output_type": "execute_result",
          "data": {
            "text/html": [
              "<div>\n",
              "<style scoped>\n",
              "    .dataframe tbody tr th:only-of-type {\n",
              "        vertical-align: middle;\n",
              "    }\n",
              "\n",
              "    .dataframe tbody tr th {\n",
              "        vertical-align: top;\n",
              "    }\n",
              "\n",
              "    .dataframe thead th {\n",
              "        text-align: right;\n",
              "    }\n",
              "</style>\n",
              "<table border=\"1\" class=\"dataframe\">\n",
              "  <thead>\n",
              "    <tr style=\"text-align: right;\">\n",
              "      <th></th>\n",
              "      <th>Doc_Vec</th>\n",
              "    </tr>\n",
              "  </thead>\n",
              "  <tbody>\n",
              "    <tr>\n",
              "      <th>Doc:0</th>\n",
              "      <td>[0.00972918, 0.0007129552, 0.07667181, 0.03029...</td>\n",
              "    </tr>\n",
              "    <tr>\n",
              "      <th>Doc:1</th>\n",
              "      <td>[-0.013807168, 0.023478575, -0.024034912, 0.02...</td>\n",
              "    </tr>\n",
              "    <tr>\n",
              "      <th>Doc:2</th>\n",
              "      <td>[-0.045057956, 0.042270076, 0.025821757, 0.001...</td>\n",
              "    </tr>\n",
              "    <tr>\n",
              "      <th>Doc:3</th>\n",
              "      <td>[-0.009835601, -0.03642884, 0.029759321, 0.026...</td>\n",
              "    </tr>\n",
              "    <tr>\n",
              "      <th>Doc:4</th>\n",
              "      <td>[-0.06851954, -0.020902792, 0.040332157, -0.01...</td>\n",
              "    </tr>\n",
              "  </tbody>\n",
              "</table>\n",
              "</div>"
            ],
            "text/plain": [
              "                                                 Doc_Vec\n",
              "Doc:0  [0.00972918, 0.0007129552, 0.07667181, 0.03029...\n",
              "Doc:1  [-0.013807168, 0.023478575, -0.024034912, 0.02...\n",
              "Doc:2  [-0.045057956, 0.042270076, 0.025821757, 0.001...\n",
              "Doc:3  [-0.009835601, -0.03642884, 0.029759321, 0.026...\n",
              "Doc:4  [-0.06851954, -0.020902792, 0.040332157, -0.01..."
            ]
          },
          "metadata": {
            "tags": []
          },
          "execution_count": 69
        }
      ]
    },
    {
      "cell_type": "markdown",
      "metadata": {
        "id": "AG6Fi-6X1GUb",
        "colab_type": "text"
      },
      "source": [
        "## Part3: ELMo"
      ]
    },
    {
      "cell_type": "code",
      "metadata": {
        "id": "CMocmvWG1LdG",
        "colab_type": "code",
        "colab": {
          "base_uri": "https://localhost:8080/",
          "height": 54
        },
        "outputId": "c8f063ee-14dd-44fe-8888-4b1d653940ae"
      },
      "source": [
        "#Initializing the model\n",
        "elmo = hub.Module(\"https://tfhub.dev/google/elmo/3\")\n",
        "\n",
        "#Creating embeddings for the first 10 documents\n",
        "embeddings = elmo(stem_data[0:10], signature=\"default\", as_dict=True)[\"default\"]\n",
        "\n",
        "\n",
        "init = tf.compat.v1.initialize_all_variables()\n",
        "with tf.compat.v1.Session() as sess:\n",
        "  sess.run(init)\n",
        "  corpus_elm = sess.run(embeddings)"
      ],
      "execution_count": 23,
      "outputs": [
        {
          "output_type": "stream",
          "text": [
            "INFO:tensorflow:Saver not created because there are no variables in the graph to restore\n"
          ],
          "name": "stdout"
        },
        {
          "output_type": "stream",
          "text": [
            "INFO:tensorflow:Saver not created because there are no variables in the graph to restore\n"
          ],
          "name": "stderr"
        }
      ]
    },
    {
      "cell_type": "code",
      "metadata": {
        "id": "hyM9lAHrEhKi",
        "colab_type": "code",
        "colab": {
          "base_uri": "https://localhost:8080/",
          "height": 54
        },
        "outputId": "731d03a9-c2c7-4137-d172-73911a06df45"
      },
      "source": [
        "corpus_elm[0]"
      ],
      "execution_count": 24,
      "outputs": [
        {
          "output_type": "execute_result",
          "data": {
            "text/plain": [
              "array([ 0.07138161,  0.19519418, -0.09149865, ..., -0.3747598 ,\n",
              "        0.18867454,  0.16174597], dtype=float32)"
            ]
          },
          "metadata": {
            "tags": []
          },
          "execution_count": 24
        }
      ]
    },
    {
      "cell_type": "code",
      "metadata": {
        "id": "2-9dpLHcErpy",
        "colab_type": "code",
        "colab": {
          "base_uri": "https://localhost:8080/",
          "height": 206
        },
        "outputId": "f3b8785e-36a6-4cc7-a41c-7e3276313d83"
      },
      "source": [
        "#Building an index\n",
        "idx_2 = [\"Doc:{0}\".format(i) for i in range(len(corpus_elm))]\n",
        "\n",
        "#Transforming corpus_ in a list\n",
        "data =[corpus_elm[i] for i in range(len(corpus_elm))]\n",
        "\n",
        "#DF\n",
        "df_corpus_elm = pd.DataFrame({\"ELMo_Vec\":data}, index=idx_2)\n",
        "\n",
        "#Inspection\n",
        "df_corpus_elm.head()"
      ],
      "execution_count": 29,
      "outputs": [
        {
          "output_type": "execute_result",
          "data": {
            "text/html": [
              "<div>\n",
              "<style scoped>\n",
              "    .dataframe tbody tr th:only-of-type {\n",
              "        vertical-align: middle;\n",
              "    }\n",
              "\n",
              "    .dataframe tbody tr th {\n",
              "        vertical-align: top;\n",
              "    }\n",
              "\n",
              "    .dataframe thead th {\n",
              "        text-align: right;\n",
              "    }\n",
              "</style>\n",
              "<table border=\"1\" class=\"dataframe\">\n",
              "  <thead>\n",
              "    <tr style=\"text-align: right;\">\n",
              "      <th></th>\n",
              "      <th>ELMo_Vec</th>\n",
              "    </tr>\n",
              "  </thead>\n",
              "  <tbody>\n",
              "    <tr>\n",
              "      <th>Doc:0</th>\n",
              "      <td>[0.071381606, 0.19519418, -0.09149865, -0.0561...</td>\n",
              "    </tr>\n",
              "    <tr>\n",
              "      <th>Doc:1</th>\n",
              "      <td>[0.19767691, 0.13903363, -0.1620108, -0.094836...</td>\n",
              "    </tr>\n",
              "    <tr>\n",
              "      <th>Doc:2</th>\n",
              "      <td>[0.17061603, -0.435246, 0.1002149, -0.04360968...</td>\n",
              "    </tr>\n",
              "    <tr>\n",
              "      <th>Doc:3</th>\n",
              "      <td>[0.11267433, -0.106532365, 0.029695617, -0.188...</td>\n",
              "    </tr>\n",
              "    <tr>\n",
              "      <th>Doc:4</th>\n",
              "      <td>[0.11439074, -0.25572342, -0.013559823, -0.353...</td>\n",
              "    </tr>\n",
              "  </tbody>\n",
              "</table>\n",
              "</div>"
            ],
            "text/plain": [
              "                                                ELMo_Vec\n",
              "Doc:0  [0.071381606, 0.19519418, -0.09149865, -0.0561...\n",
              "Doc:1  [0.19767691, 0.13903363, -0.1620108, -0.094836...\n",
              "Doc:2  [0.17061603, -0.435246, 0.1002149, -0.04360968...\n",
              "Doc:3  [0.11267433, -0.106532365, 0.029695617, -0.188...\n",
              "Doc:4  [0.11439074, -0.25572342, -0.013559823, -0.353..."
            ]
          },
          "metadata": {
            "tags": []
          },
          "execution_count": 29
        }
      ]
    },
    {
      "cell_type": "markdown",
      "metadata": {
        "id": "MfSx4bwF3k1a",
        "colab_type": "text"
      },
      "source": [
        "## Part 4: BERT"
      ]
    },
    {
      "cell_type": "code",
      "metadata": {
        "id": "2Bc_JkDr4M0i",
        "colab_type": "code",
        "colab": {
          "resources": {
            "http://localhost:8080/nbextensions/google.colab/files.js": {
              "data": "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",
              "ok": true,
              "headers": [
                [
                  "content-type",
                  "application/javascript"
                ]
              ],
              "status": 200,
              "status_text": "OK"
            }
          },
          "base_uri": "https://localhost:8080/",
          "height": 77
        },
        "outputId": "7708a38a-1b9f-4af2-879d-d9b039617050"
      },
      "source": [
        "uploaded = files.upload()"
      ],
      "execution_count": 3,
      "outputs": [
        {
          "output_type": "display_data",
          "data": {
            "text/html": [
              "\n",
              "     <input type=\"file\" id=\"files-d0ee7d4b-a959-455d-a76e-3c705b51061a\" name=\"files[]\" multiple disabled />\n",
              "     <output id=\"result-d0ee7d4b-a959-455d-a76e-3c705b51061a\">\n",
              "      Upload widget is only available when the cell has been executed in the\n",
              "      current browser session. Please rerun this cell to enable.\n",
              "      </output>\n",
              "      <script src=\"/nbextensions/google.colab/files.js\"></script> "
            ],
            "text/plain": [
              "<IPython.core.display.HTML object>"
            ]
          },
          "metadata": {
            "tags": []
          }
        },
        {
          "output_type": "stream",
          "text": [
            "Saving lemmatized_data.p to lemmatized_data (1).p\n"
          ],
          "name": "stdout"
        }
      ]
    },
    {
      "cell_type": "code",
      "metadata": {
        "id": "tSHMe8Lb4bXH",
        "colab_type": "code",
        "colab": {
          "base_uri": "https://localhost:8080/",
          "height": 55
        },
        "outputId": "1017d605-03bd-4dd1-ac26-ea7b6d877ba5"
      },
      "source": [
        "#loading the lemmatized data with pickle\n",
        "lem_data = pickle.load( open( \"lemmatized_data.p\", \"rb\" ) )\n",
        "\n",
        "#Printing first entry for inspection\n",
        "lem_data[0]"
      ],
      "execution_count": 4,
      "outputs": [
        {
          "output_type": "execute_result",
          "data": {
            "text/plain": [
              "'car wonder enlighten car see day door sport car look late early call bricklin door small addition bumper separate rest body know tellme model engine specs year production car history info funky looking car mail thank'"
            ]
          },
          "metadata": {
            "tags": []
          },
          "execution_count": 4
        }
      ]
    },
    {
      "cell_type": "code",
      "metadata": {
        "id": "ewuknlAg4-KS",
        "colab_type": "code",
        "colab": {
          "base_uri": "https://localhost:8080/",
          "height": 55
        },
        "outputId": "1568fd8a-b9d4-4e67-c85d-a981b176588b"
      },
      "source": [
        "#Defining boundaries for the documents \n",
        "sentences = [\"[CLS] \" + query + \" [SEP]\" for query in lem_data]\n",
        "\n",
        "#Inspection\n",
        "sentences[0]"
      ],
      "execution_count": 5,
      "outputs": [
        {
          "output_type": "execute_result",
          "data": {
            "text/plain": [
              "'[CLS] car wonder enlighten car see day door sport car look late early call bricklin door small addition bumper separate rest body know tellme model engine specs year production car history info funky looking car mail thank [SEP]'"
            ]
          },
          "metadata": {
            "tags": []
          },
          "execution_count": 5
        }
      ]
    },
    {
      "cell_type": "code",
      "metadata": {
        "id": "jOGiZgpK5P5D",
        "colab_type": "code",
        "colab": {
          "base_uri": "https://localhost:8080/",
          "height": 807
        },
        "outputId": "7a61c011-d2a0-438b-d9db-66affc0ce9d5"
      },
      "source": [
        "#Downloading the pretrained method\n",
        "tokenizer = BertTokenizer.from_pretrained('bert-base-uncased')\n",
        "\n",
        "#Tokenizing the words for each \"sentence\"\n",
        "tokenized_texts = [tokenizer.tokenize(sent) for sent in sentences]\n",
        "\n",
        "#Inspection: We can already see that some words were separated into more than one token (e.g. en, ##light)\n",
        "tokenized_texts[0]"
      ],
      "execution_count": 6,
      "outputs": [
        {
          "output_type": "execute_result",
          "data": {
            "text/plain": [
              "['[CLS]',\n",
              " 'car',\n",
              " 'wonder',\n",
              " 'en',\n",
              " '##light',\n",
              " '##en',\n",
              " 'car',\n",
              " 'see',\n",
              " 'day',\n",
              " 'door',\n",
              " 'sport',\n",
              " 'car',\n",
              " 'look',\n",
              " 'late',\n",
              " 'early',\n",
              " 'call',\n",
              " 'brick',\n",
              " '##lin',\n",
              " 'door',\n",
              " 'small',\n",
              " 'addition',\n",
              " 'bumper',\n",
              " 'separate',\n",
              " 'rest',\n",
              " 'body',\n",
              " 'know',\n",
              " 'tell',\n",
              " '##me',\n",
              " 'model',\n",
              " 'engine',\n",
              " 'spec',\n",
              " '##s',\n",
              " 'year',\n",
              " 'production',\n",
              " 'car',\n",
              " 'history',\n",
              " 'info',\n",
              " 'funky',\n",
              " 'looking',\n",
              " 'car',\n",
              " 'mail',\n",
              " 'thank',\n",
              " '[SEP]']"
            ]
          },
          "metadata": {
            "tags": []
          },
          "execution_count": 6
        }
      ]
    },
    {
      "cell_type": "code",
      "metadata": {
        "id": "Gcm6rqqq5-j_",
        "colab_type": "code",
        "colab": {
          "base_uri": "https://localhost:8080/",
          "height": 550
        },
        "outputId": "6cb959c4-70e3-403f-8f95-7c3fd2f3fcb0"
      },
      "source": [
        "sentences_padded = pad_sequences(tokenized_texts, dtype=object,maxlen= 200, value='[PAD]', truncating=\"post\",padding=\"post\")\n",
        "\n",
        "sentences_padded[0]"
      ],
      "execution_count": 7,
      "outputs": [
        {
          "output_type": "execute_result",
          "data": {
            "text/plain": [
              "array(['[CLS]', 'car', 'wonder', 'en', '##light', '##en', 'car', 'see',\n",
              "       'day', 'door', 'sport', 'car', 'look', 'late', 'early', 'call',\n",
              "       'brick', '##lin', 'door', 'small', 'addition', 'bumper',\n",
              "       'separate', 'rest', 'body', 'know', 'tell', '##me', 'model',\n",
              "       'engine', 'spec', '##s', 'year', 'production', 'car', 'history',\n",
              "       'info', 'funky', 'looking', 'car', 'mail', 'thank', '[SEP]',\n",
              "       '[PAD]', '[PAD]', '[PAD]', '[PAD]', '[PAD]', '[PAD]', '[PAD]',\n",
              "       '[PAD]', '[PAD]', '[PAD]', '[PAD]', '[PAD]', '[PAD]', '[PAD]',\n",
              "       '[PAD]', '[PAD]', '[PAD]', '[PAD]', '[PAD]', '[PAD]', '[PAD]',\n",
              "       '[PAD]', '[PAD]', '[PAD]', '[PAD]', '[PAD]', '[PAD]', '[PAD]',\n",
              "       '[PAD]', '[PAD]', '[PAD]', '[PAD]', '[PAD]', '[PAD]', '[PAD]',\n",
              "       '[PAD]', '[PAD]', '[PAD]', '[PAD]', '[PAD]', '[PAD]', '[PAD]',\n",
              "       '[PAD]', '[PAD]', '[PAD]', '[PAD]', '[PAD]', '[PAD]', '[PAD]',\n",
              "       '[PAD]', '[PAD]', '[PAD]', '[PAD]', '[PAD]', '[PAD]', '[PAD]',\n",
              "       '[PAD]', '[PAD]', '[PAD]', '[PAD]', '[PAD]', '[PAD]', '[PAD]',\n",
              "       '[PAD]', '[PAD]', '[PAD]', '[PAD]', '[PAD]', '[PAD]', '[PAD]',\n",
              "       '[PAD]', '[PAD]', '[PAD]', '[PAD]', '[PAD]', '[PAD]', '[PAD]',\n",
              "       '[PAD]', '[PAD]', '[PAD]', '[PAD]', '[PAD]', '[PAD]', '[PAD]',\n",
              "       '[PAD]', '[PAD]', '[PAD]', '[PAD]', '[PAD]', '[PAD]', '[PAD]',\n",
              "       '[PAD]', '[PAD]', '[PAD]', '[PAD]', '[PAD]', '[PAD]', '[PAD]',\n",
              "       '[PAD]', '[PAD]', '[PAD]', '[PAD]', '[PAD]', '[PAD]', '[PAD]',\n",
              "       '[PAD]', '[PAD]', '[PAD]', '[PAD]', '[PAD]', '[PAD]', '[PAD]',\n",
              "       '[PAD]', '[PAD]', '[PAD]', '[PAD]', '[PAD]', '[PAD]', '[PAD]',\n",
              "       '[PAD]', '[PAD]', '[PAD]', '[PAD]', '[PAD]', '[PAD]', '[PAD]',\n",
              "       '[PAD]', '[PAD]', '[PAD]', '[PAD]', '[PAD]', '[PAD]', '[PAD]',\n",
              "       '[PAD]', '[PAD]', '[PAD]', '[PAD]', '[PAD]', '[PAD]', '[PAD]',\n",
              "       '[PAD]', '[PAD]', '[PAD]', '[PAD]', '[PAD]', '[PAD]', '[PAD]',\n",
              "       '[PAD]', '[PAD]', '[PAD]', '[PAD]', '[PAD]', '[PAD]', '[PAD]',\n",
              "       '[PAD]', '[PAD]', '[PAD]'], dtype=object)"
            ]
          },
          "metadata": {
            "tags": []
          },
          "execution_count": 7
        }
      ]
    },
    {
      "cell_type": "code",
      "metadata": {
        "id": "adL29j3d7aGR",
        "colab_type": "code",
        "colab": {
          "base_uri": "https://localhost:8080/",
          "height": 1000
        },
        "outputId": "2e486264-f9b8-4885-e8e1-c09166c693b9"
      },
      "source": [
        "#Converting the tokens to ids\n",
        "sentences_converted = [tokenizer.convert_tokens_to_ids(s) for s in sentences_padded]\n",
        "\n",
        "#Inspection\n",
        "sentences_converted[0]"
      ],
      "execution_count": 8,
      "outputs": [
        {
          "output_type": "execute_result",
          "data": {
            "text/plain": [
              "[101,\n",
              " 2482,\n",
              " 4687,\n",
              " 4372,\n",
              " 7138,\n",
              " 2368,\n",
              " 2482,\n",
              " 2156,\n",
              " 2154,\n",
              " 2341,\n",
              " 4368,\n",
              " 2482,\n",
              " 2298,\n",
              " 2397,\n",
              " 2220,\n",
              " 2655,\n",
              " 5318,\n",
              " 4115,\n",
              " 2341,\n",
              " 2235,\n",
              " 2804,\n",
              " 21519,\n",
              " 3584,\n",
              " 2717,\n",
              " 2303,\n",
              " 2113,\n",
              " 2425,\n",
              " 4168,\n",
              " 2944,\n",
              " 3194,\n",
              " 28699,\n",
              " 2015,\n",
              " 2095,\n",
              " 2537,\n",
              " 2482,\n",
              " 2381,\n",
              " 18558,\n",
              " 24151,\n",
              " 2559,\n",
              " 2482,\n",
              " 5653,\n",
              " 4067,\n",
              " 102,\n",
              " 0,\n",
              " 0,\n",
              " 0,\n",
              " 0,\n",
              " 0,\n",
              " 0,\n",
              " 0,\n",
              " 0,\n",
              " 0,\n",
              " 0,\n",
              " 0,\n",
              " 0,\n",
              " 0,\n",
              " 0,\n",
              " 0,\n",
              " 0,\n",
              " 0,\n",
              " 0,\n",
              " 0,\n",
              " 0,\n",
              " 0,\n",
              " 0,\n",
              " 0,\n",
              " 0,\n",
              " 0,\n",
              " 0,\n",
              " 0,\n",
              " 0,\n",
              " 0,\n",
              " 0,\n",
              " 0,\n",
              " 0,\n",
              " 0,\n",
              " 0,\n",
              " 0,\n",
              " 0,\n",
              " 0,\n",
              " 0,\n",
              " 0,\n",
              " 0,\n",
              " 0,\n",
              " 0,\n",
              " 0,\n",
              " 0,\n",
              " 0,\n",
              " 0,\n",
              " 0,\n",
              " 0,\n",
              " 0,\n",
              " 0,\n",
              " 0,\n",
              " 0,\n",
              " 0,\n",
              " 0,\n",
              " 0,\n",
              " 0,\n",
              " 0,\n",
              " 0,\n",
              " 0,\n",
              " 0,\n",
              " 0,\n",
              " 0,\n",
              " 0,\n",
              " 0,\n",
              " 0,\n",
              " 0,\n",
              " 0,\n",
              " 0,\n",
              " 0,\n",
              " 0,\n",
              " 0,\n",
              " 0,\n",
              " 0,\n",
              " 0,\n",
              " 0,\n",
              " 0,\n",
              " 0,\n",
              " 0,\n",
              " 0,\n",
              " 0,\n",
              " 0,\n",
              " 0,\n",
              " 0,\n",
              " 0,\n",
              " 0,\n",
              " 0,\n",
              " 0,\n",
              " 0,\n",
              " 0,\n",
              " 0,\n",
              " 0,\n",
              " 0,\n",
              " 0,\n",
              " 0,\n",
              " 0,\n",
              " 0,\n",
              " 0,\n",
              " 0,\n",
              " 0,\n",
              " 0,\n",
              " 0,\n",
              " 0,\n",
              " 0,\n",
              " 0,\n",
              " 0,\n",
              " 0,\n",
              " 0,\n",
              " 0,\n",
              " 0,\n",
              " 0,\n",
              " 0,\n",
              " 0,\n",
              " 0,\n",
              " 0,\n",
              " 0,\n",
              " 0,\n",
              " 0,\n",
              " 0,\n",
              " 0,\n",
              " 0,\n",
              " 0,\n",
              " 0,\n",
              " 0,\n",
              " 0,\n",
              " 0,\n",
              " 0,\n",
              " 0,\n",
              " 0,\n",
              " 0,\n",
              " 0,\n",
              " 0,\n",
              " 0,\n",
              " 0,\n",
              " 0,\n",
              " 0,\n",
              " 0,\n",
              " 0,\n",
              " 0,\n",
              " 0,\n",
              " 0,\n",
              " 0,\n",
              " 0,\n",
              " 0,\n",
              " 0,\n",
              " 0,\n",
              " 0,\n",
              " 0,\n",
              " 0,\n",
              " 0,\n",
              " 0,\n",
              " 0,\n",
              " 0,\n",
              " 0,\n",
              " 0,\n",
              " 0,\n",
              " 0,\n",
              " 0]"
            ]
          },
          "metadata": {
            "tags": []
          },
          "execution_count": 8
        }
      ]
    },
    {
      "cell_type": "code",
      "metadata": {
        "id": "au5Va6ka7l1s",
        "colab_type": "code",
        "colab": {
          "base_uri": "https://localhost:8080/",
          "height": 110
        },
        "outputId": "43713662-071c-404a-e3e1-af513c784930"
      },
      "source": [
        "#Initializing model\n",
        "model = TFBertModel.from_pretrained('bert-base-uncased')\n",
        "\n",
        "#Defining the inputs for the encoders from the previous step\n",
        "input_ids=tf.cast(sentences_converted[0:10],tf.int32)\n",
        "\n",
        "#Getting the output based on the inputs\n",
        "outputs = model(input_ids)\n",
        "\n",
        "\n",
        "last_hidden_state = outputs[0]\n",
        "\n",
        "#Inspection\n",
        "print(last_hidden_state)"
      ],
      "execution_count": 9,
      "outputs": [
        {
          "output_type": "stream",
          "text": [
            "WARNING:tensorflow:From /usr/local/lib/python3.6/dist-packages/tensorflow/python/ops/resource_variable_ops.py:1666: calling BaseResourceVariable.__init__ (from tensorflow.python.ops.resource_variable_ops) with constraint is deprecated and will be removed in a future version.\n",
            "Instructions for updating:\n",
            "If using Keras pass *_constraint arguments to layers.\n",
            "Tensor(\"tf_bert_model_2/bert/encoder/layer_._11/output/LayerNorm/batchnorm/add_1:0\", shape=(10, 200, 768), dtype=float32)\n"
          ],
          "name": "stdout"
        }
      ]
    },
    {
      "cell_type": "code",
      "metadata": {
        "id": "O0kzo_F48mp6",
        "colab_type": "code",
        "colab": {
          "base_uri": "https://localhost:8080/",
          "height": 35
        },
        "outputId": "6cfb579b-e761-4a91-e1f4-34188cd172c7"
      },
      "source": [
        "mean_embeddings=tf.reduce_mean(last_hidden_state,1)\n",
        "print(mean_embeddings)"
      ],
      "execution_count": 10,
      "outputs": [
        {
          "output_type": "stream",
          "text": [
            "Tensor(\"Mean:0\", shape=(10, 768), dtype=float32)\n"
          ],
          "name": "stdout"
        }
      ]
    },
    {
      "cell_type": "code",
      "metadata": {
        "id": "eCmoFdw59UCg",
        "colab_type": "code",
        "colab": {}
      },
      "source": [
        "init = tf.compat.v1.initialize_all_variables()\n",
        "with tf.compat.v1.Session() as sess:\n",
        "  sess.run(init)\n",
        "  result = sess.run(mean_embeddings)\n"
      ],
      "execution_count": 0,
      "outputs": []
    },
    {
      "cell_type": "code",
      "metadata": {
        "id": "iMyVyHVa-z1o",
        "colab_type": "code",
        "colab": {
          "base_uri": "https://localhost:8080/",
          "height": 1000
        },
        "outputId": "a5cc3e38-f9ea-4e39-d4ee-24d2c2e8aa50"
      },
      "source": [
        "result[0]"
      ],
      "execution_count": 15,
      "outputs": [
        {
          "output_type": "execute_result",
          "data": {
            "text/plain": [
              "array([-5.12076616e-01,  8.98503542e-01, -4.02639769e-02,  9.76010978e-01,\n",
              "        6.40304625e-01,  1.01450908e+00,  9.83351290e-01,  1.14929688e+00,\n",
              "       -2.53796160e-01, -6.65437877e-01, -2.69740582e-01,  9.65681553e-01,\n",
              "       -1.00123227e+00,  2.46380344e-01,  1.80394396e-01,  4.51377153e-01,\n",
              "       -6.25829756e-01, -4.78638709e-02,  1.28830683e+00, -1.15564112e-02,\n",
              "       -8.30001295e-01, -2.36905366e-01, -8.27707291e-01,  1.06623435e+00,\n",
              "       -6.51035249e-01, -1.75276673e+00,  5.10548413e-01, -4.42553282e-01,\n",
              "       -5.46988010e-01, -6.68649137e-01, -5.01512110e-01, -3.71997133e-02,\n",
              "        4.38858539e-01,  5.00011146e-01,  9.15033817e-01, -5.02894461e-01,\n",
              "        8.47477555e-01,  1.22199821e+00,  1.67748436e-01, -2.04763740e-01,\n",
              "        6.87130213e-01,  1.66078627e+00, -3.57132405e-01,  9.39732671e-01,\n",
              "        1.67533115e-01, -7.30901733e-02,  4.97371167e-01,  2.05278933e-01,\n",
              "        1.22303843e+00, -6.88611686e-01,  3.98229241e-01, -3.58461678e-01,\n",
              "        1.35297552e-01,  9.06205416e-01, -4.51071471e-01,  5.81619322e-01,\n",
              "        2.43949699e+00, -1.73753321e-01,  5.79189062e-01,  1.60361826e+00,\n",
              "        1.50431851e-02, -8.09343159e-01, -2.69091338e-01,  4.15555507e-01,\n",
              "       -7.42196798e-01, -6.50685489e-01, -5.05699158e-01,  6.39473319e-01,\n",
              "       -6.95790946e-01,  7.78848410e-01, -6.71174526e-01, -3.51106346e-01,\n",
              "       -9.24747229e-01,  9.36566412e-01,  1.58721960e+00, -5.24088025e-01,\n",
              "        9.78585899e-01,  5.40033430e-02, -4.59128976e-01, -6.91891074e-01,\n",
              "        6.38418972e-01, -9.44645762e-01, -2.11854920e-01,  7.95747697e-01,\n",
              "        4.34534460e-01,  1.11990583e+00, -4.07989919e-01,  1.35901737e+00,\n",
              "        8.30459297e-01,  1.12054110e+00,  7.85152256e-01, -1.24390677e-01,\n",
              "        7.35842586e-01, -3.94517370e-02, -6.34530008e-01, -1.78993869e+00,\n",
              "       -1.24735248e+00, -3.97772282e-01,  1.67573750e+00,  5.14640510e-01,\n",
              "       -5.59470415e-01,  2.11580098e-01,  1.16995132e+00,  2.40408748e-01,\n",
              "       -1.16814756e+00,  4.96565670e-01,  1.97946393e+00, -8.46513033e-01,\n",
              "       -2.41230875e-01,  1.34776026e-01, -6.34052217e-01,  5.78230202e-01,\n",
              "       -1.32871413e+00,  6.66357338e-01,  5.42150497e-01, -1.41706479e+00,\n",
              "        7.07895815e-01, -7.11479485e-01, -3.13285172e-01, -2.74570405e-01,\n",
              "       -3.11404467e-01,  2.12795753e-02, -6.73766062e-02, -2.86108315e-01,\n",
              "        6.11467779e-01, -6.30368710e-01, -3.92674178e-01,  1.44566941e+00,\n",
              "        6.25850201e-01,  9.89225864e-01, -5.91804087e-01, -4.16744083e-01,\n",
              "       -2.65563011e-01, -3.68852437e-01,  8.03626239e-01, -4.20760930e-01,\n",
              "        7.28835821e-01,  9.89748180e-01,  2.55993664e-01, -8.42804134e-01,\n",
              "       -1.09580219e+00, -5.19393206e-01, -1.40359700e+00, -1.42657137e+00,\n",
              "       -6.32470846e-01, -6.42085850e-01, -4.17787254e-01, -2.92015672e-01,\n",
              "       -3.10124815e-01, -8.93245712e-02, -7.10517943e-01, -1.07383668e+00,\n",
              "       -7.29828417e-01,  5.24287045e-01, -8.39836657e-01, -1.28824711e-01,\n",
              "       -2.06969947e-01,  5.73889136e-01,  1.10727899e-01, -1.05309474e+00,\n",
              "       -1.08838044e-02, -1.02911973e+00, -2.32279226e-01, -7.85470665e-01,\n",
              "       -1.22470737e+00,  6.55282259e-01,  6.13171160e-01,  5.95836401e-01,\n",
              "        4.49956775e-01,  3.83319616e-01,  1.08994067e+00,  1.42503917e+00,\n",
              "        5.84931731e-01, -1.02934539e-02, -1.22592723e+00,  2.30045654e-02,\n",
              "        2.36609131e-01,  9.64518338e-02, -1.00002265e+00,  1.68825671e-01,\n",
              "       -5.49046040e-01, -5.33755779e-01, -1.25824487e+00, -1.05774951e+00,\n",
              "       -3.61233056e-01,  3.35378468e-01, -7.10754454e-01,  3.75554591e-01,\n",
              "        1.21146619e+00,  1.17374170e+00, -1.14462459e+00,  1.81396580e+00,\n",
              "       -4.76379901e-01, -8.57505620e-01,  2.35565513e-01,  1.74576461e-01,\n",
              "        2.09936872e-01,  7.16637850e-01,  6.89266384e-01, -1.31909168e+00,\n",
              "        8.11961532e-01, -1.42789006e+00,  8.63216877e-01,  8.59710097e-01,\n",
              "        5.48553646e-01,  6.48112774e-01,  4.45116609e-01,  3.52362990e-01,\n",
              "       -8.99962336e-02, -6.88880682e-01,  4.53155965e-01, -7.83673823e-02,\n",
              "       -5.88451028e-01, -5.45390129e-01, -1.17823696e+00,  1.77812368e-01,\n",
              "        9.00846004e-01,  1.68872285e+00, -2.14854702e-01,  1.10477936e+00,\n",
              "       -9.79904234e-01, -2.83231348e-01, -5.12239635e-01, -9.35996771e-01,\n",
              "        2.26790637e-01,  3.01518142e-01, -7.25568593e-01,  1.39033353e+00,\n",
              "       -5.09176135e-01,  1.22571063e+00, -1.67217746e-01, -2.39618540e+00,\n",
              "        3.70149106e-01, -8.65692973e-01,  4.30393070e-01,  1.09217060e+00,\n",
              "        3.01225573e-01, -1.72836673e+00,  2.17884481e-01, -7.66578734e-01,\n",
              "       -2.51382262e-01, -3.85840572e-02,  5.48813976e-02, -6.31664276e-01,\n",
              "       -2.19412923e-01, -8.23875785e-01,  4.96892244e-01, -6.19100749e-01,\n",
              "       -6.93589926e-01, -4.08221126e-01,  2.75370896e-01,  9.43318829e-02,\n",
              "        4.85339999e-01, -5.08250654e-01,  1.15660763e+00,  1.85466599e+00,\n",
              "       -1.15816963e+00, -5.57255685e-01, -5.29589534e-01,  1.02199519e+00,\n",
              "       -1.76807010e+00, -1.72321737e-01,  8.07244420e-01,  4.06256825e-01,\n",
              "       -1.72046602e-01, -1.54699147e+00, -9.46615160e-01,  1.59404480e+00,\n",
              "        1.63423228e+00,  4.23443764e-01, -4.42275703e-01, -3.21153790e-01,\n",
              "        1.89768636e+00,  5.72729528e-01, -2.40903452e-01, -5.53142488e-01,\n",
              "       -7.10743845e-01, -3.38469185e-02,  4.86872017e-01,  1.86854553e+00,\n",
              "       -2.97271222e-01,  2.05293727e+00, -6.22091413e-01,  4.33743298e-01,\n",
              "       -4.12867814e-01,  1.14386928e+00, -1.27253151e+00, -1.41988426e-01,\n",
              "        5.86600661e-01,  2.93538757e-02,  2.06456095e-01, -7.06920564e-01,\n",
              "       -1.97966918e-01, -6.46715939e-01, -5.32484710e-01,  4.37401891e-01,\n",
              "        4.82738644e-01, -1.67012668e+00, -1.09181292e-01,  2.82784641e-01,\n",
              "       -1.08255792e+00,  6.00025021e-02,  8.93747389e-01, -9.87998724e-01,\n",
              "        8.42617869e-01,  1.03511202e+00,  6.60894752e-01, -1.99796006e-01,\n",
              "        4.33878988e-01,  6.70239031e-02, -1.69594005e-01,  6.39555305e-02,\n",
              "        1.46972716e+00, -6.87349319e-01, -2.16525257e-01,  1.35697973e+00,\n",
              "       -4.38134581e-01,  2.62519985e-01, -3.73534918e-01,  5.53557217e-01,\n",
              "        1.29399014e+00, -2.93317229e-01,  1.69444597e+00,  1.88060558e+00,\n",
              "        1.23331450e-01,  1.58540738e+00, -9.11475539e-01, -5.55382669e-02,\n",
              "       -9.13684070e-01, -4.51457411e-01,  3.29318136e-01,  1.51900336e-01,\n",
              "        3.29406440e-01, -1.55862498e+00, -5.34233823e-02,  1.46897566e+00,\n",
              "       -1.23777223e+00,  3.10730785e-01,  9.67649460e-01,  1.09411526e+00,\n",
              "       -6.08134985e-01,  2.86510736e-01, -5.39979219e-01, -6.23806477e-01,\n",
              "       -5.10459721e-01,  5.46620846e-01,  6.58237159e-01, -1.74256587e+00,\n",
              "        1.21525109e-01,  2.39306271e-01, -2.99720526e-01, -1.35001767e+00,\n",
              "       -1.16717422e+00,  6.86272025e-01, -2.31186658e-01,  9.75146472e-01,\n",
              "        1.52790403e+00, -6.53517067e-01, -1.32213116e+00, -1.69491410e+00,\n",
              "       -5.18226147e-01,  1.26585335e-01,  1.06344116e+00,  4.64265198e-02,\n",
              "        8.54117990e-01, -2.17999041e-01,  1.50374949e+00,  1.58596742e+00,\n",
              "       -4.39476699e-01, -5.92381001e-01,  3.36882889e-01,  3.84776980e-01,\n",
              "        4.59444344e-01, -8.00081253e-01,  1.41843867e+00,  5.44693172e-01,\n",
              "       -1.06846344e+00, -9.25238550e-01,  1.29358721e+00,  1.09507513e+00,\n",
              "        1.96068138e-01,  6.46750093e-01, -8.81315947e-01,  1.22609094e-01,\n",
              "       -9.57421243e-01,  9.21353161e-01, -9.86011684e-01, -9.26169276e-01,\n",
              "       -8.46026599e-01,  1.35116410e+00, -1.98969752e-01, -6.52844533e-02,\n",
              "       -1.76388597e+00, -5.91100574e-01, -1.60881376e+00,  7.83188343e-01,\n",
              "       -7.57032692e-01, -9.38686430e-01, -7.95681775e-01, -3.39660913e-01,\n",
              "        8.75360727e-01,  1.92809832e+00,  1.11052364e-01, -9.68542814e-01,\n",
              "        1.11864889e+00,  2.95566946e-01,  7.66378105e-01, -2.50863612e-01,\n",
              "       -4.57901299e-01,  2.65231669e-01, -9.07221809e-02, -4.62598242e-02,\n",
              "       -2.05937311e-01,  7.19156444e-01, -5.85658312e-01,  6.97945833e-01,\n",
              "        2.45126203e-01, -3.40508968e-01, -6.96808755e-01,  7.59610355e-01,\n",
              "       -1.46238923e-01,  1.61698973e+00,  1.31611571e-01,  5.02302945e-01,\n",
              "       -1.27644658e-01,  3.44084561e-01,  5.86556673e-01,  7.95033425e-02,\n",
              "        2.47607857e-01,  3.94600213e-01, -7.61817098e-01, -2.76550817e+00,\n",
              "       -2.87111372e-01, -3.62319231e-01,  4.35047239e-01,  2.77672338e+00,\n",
              "       -4.93267030e-01,  6.52546108e-01, -5.77577472e-01,  6.22553766e-01,\n",
              "        5.29386580e-01,  4.49384391e-01,  5.59302330e-01,  1.01246290e-01,\n",
              "        5.12523890e-01,  5.58997035e-01,  1.26686645e+00, -1.82113394e-01,\n",
              "        6.56037688e-01,  7.58534670e-01, -2.04690471e-01,  1.09366405e+00,\n",
              "       -3.15737933e-01,  1.82871890e+00,  8.59044641e-02,  9.03597325e-02,\n",
              "       -6.64377064e-02, -2.48614058e-01, -4.34543014e-01,  3.82125080e-01,\n",
              "        1.40066937e-01,  1.33679652e+00, -1.18633318e+00,  5.52473247e-01,\n",
              "        2.12500632e-01, -1.01275039e+00,  7.36742556e-01, -3.67405891e-01,\n",
              "       -7.36939013e-01,  1.02322149e+00,  8.17245007e-01,  1.04932547e+00,\n",
              "       -1.17249596e+00, -4.04989541e-01,  6.66790977e-02, -4.40538138e-01,\n",
              "       -8.70280385e-01, -1.06436498e-02,  6.18789077e-01, -4.91042137e-01,\n",
              "       -1.05932102e-01, -7.69012809e-01, -3.55967224e-01,  4.71949756e-01,\n",
              "       -1.28489304e+00, -1.05500899e-01,  7.32573122e-02,  9.56682801e-01,\n",
              "       -1.33340490e+00,  4.95054811e-01, -7.59077787e-01,  1.75142229e+00,\n",
              "        8.42536390e-02,  3.93117517e-01,  1.25057387e+00,  1.31144106e+00,\n",
              "        1.40460968e+00,  4.04390335e-01,  6.26323760e-01, -6.77081704e-01,\n",
              "        2.69040644e-01,  1.05140877e+00, -9.97815788e-01, -8.21425542e-02,\n",
              "        1.14251778e-01, -1.30829346e+00,  1.60360755e-03, -1.70168489e-01,\n",
              "        9.82417315e-02, -2.24611893e-01, -1.15046299e+00,  1.13234922e-01,\n",
              "        1.63481757e-01,  8.79621208e-01, -7.71719754e-01, -1.66415602e-01,\n",
              "       -6.18510187e-01,  1.26348615e+00, -4.62958694e-01,  1.11353469e+00,\n",
              "        1.94806087e+00, -1.27767384e+00, -4.94070351e-01, -2.70939562e-02,\n",
              "       -8.79189253e-01,  1.94007620e-01,  1.44341573e-01,  8.78647566e-01,\n",
              "        8.12196672e-01, -2.46543789e+00,  6.49848342e-01,  6.95402622e-01,\n",
              "       -1.06250918e+00, -9.30219173e-01, -1.27196741e+00, -2.53987908e-01,\n",
              "        3.92085761e-01, -4.44437176e-01,  4.21666443e-01,  9.91199911e-02,\n",
              "       -1.12863934e+00,  1.10911512e+00, -1.60984725e-01,  3.16553921e-01,\n",
              "       -5.92828393e-01, -2.68144995e-01,  4.75206077e-01, -2.87719458e-01,\n",
              "       -2.34267235e-01, -4.27015841e-01,  5.88884996e-03,  2.00026691e-01,\n",
              "        8.30329299e-01, -2.71944344e-01,  4.30851370e-01, -6.21102393e-01,\n",
              "        1.57704920e-01, -5.12818277e-01, -1.77541133e-02, -1.24022770e+00,\n",
              "        6.01452410e-01, -7.05739617e-01,  3.57076079e-01, -9.27321792e-01,\n",
              "       -5.12006283e-01,  2.13493213e-01, -8.62830132e-02, -9.64346305e-02,\n",
              "       -1.21775448e+00,  4.39289808e-01,  4.79866475e-01, -8.27736378e-01,\n",
              "        1.56288350e+00,  1.65319514e+00, -2.93483019e-01, -2.01147944e-01,\n",
              "       -8.92491758e-01, -1.09598863e+00, -7.60771394e-01, -2.34343982e+00,\n",
              "       -4.82286215e-01,  1.28993407e-01, -8.57476830e-01,  2.31488228e-01,\n",
              "        5.10010958e-01, -3.40831846e-01, -4.00871038e-01, -3.72405708e-01,\n",
              "       -5.70907772e-01,  4.49834228e-01, -1.51796615e+00, -1.48492706e+00,\n",
              "        2.26200253e-01, -6.68609023e-01, -5.24555087e-01,  1.93786010e-01,\n",
              "        1.14422357e-02,  8.18400860e-01, -5.95389366e-01, -8.12795341e-01,\n",
              "       -1.41520619e+00, -9.54197407e-01, -1.01230991e+00,  3.97345781e-01,\n",
              "       -6.33572698e-01, -1.69006181e+00, -8.63317668e-01, -9.28623736e-01,\n",
              "       -1.01653516e+00, -5.95505089e-02, -1.12095207e-01,  1.11440313e+00,\n",
              "        9.06852663e-01, -9.47869480e-01,  1.08350253e+00, -1.10437822e+00,\n",
              "       -4.32709008e-01, -1.13845147e-01, -6.21540070e-01,  5.62960058e-02,\n",
              "        4.81348224e-02, -8.55608582e-01,  1.25817943e+00, -2.60128696e-02,\n",
              "       -4.00174499e-01,  5.16610861e-01, -8.16505790e-01, -3.41373831e-01,\n",
              "       -7.96833217e-01, -2.99937010e-01,  3.22877645e-01,  2.68364012e-01,\n",
              "       -1.82931423e-01, -2.98782676e-01,  5.98491073e-01, -7.80580342e-01,\n",
              "       -1.99400604e+00, -9.30072460e-03,  4.79550511e-01, -9.28536057e-01,\n",
              "        2.16176435e-01, -1.01175196e-01, -1.15034842e+00, -1.72512591e-01,\n",
              "       -3.51091474e-01,  5.62057197e-01, -1.20258190e-01,  8.38496923e-01,\n",
              "       -1.12205677e-01,  2.90512532e-01, -1.18516636e+00,  5.86845458e-01,\n",
              "       -1.28316641e+00, -6.36092246e-01, -7.99883246e-01,  3.07466030e-01,\n",
              "       -1.24782741e+00, -4.41469401e-02, -6.47853553e-01, -9.62729082e-02,\n",
              "        8.04933071e-01, -1.07440874e-01,  1.34498239e-01, -4.70982194e-01,\n",
              "        1.40621111e-01,  3.93583745e-01, -1.50690949e+00,  8.66366744e-01,\n",
              "        2.76631624e-01, -2.45679125e-01,  7.54516661e-01,  7.69823611e-01,\n",
              "        9.92079079e-01, -1.77420825e-01, -1.08831406e-01, -5.27438223e-01,\n",
              "       -9.88026429e-03, -3.14512759e-01, -4.23939526e-01,  1.09587812e+00,\n",
              "        1.03651546e-01,  1.33699310e+00, -1.01886034e+00,  1.01427078e+00,\n",
              "       -1.66383529e+00,  9.79363263e-01,  7.00113475e-02, -6.93637207e-02,\n",
              "        2.52019048e-01, -1.81453979e+00, -1.39882314e+00, -6.19465411e-01,\n",
              "        5.78219891e-01,  3.80716681e-01,  1.96532026e-01, -3.38322446e-02,\n",
              "       -7.73340404e-01, -3.78849328e-01,  2.36222342e-01, -8.84304941e-01,\n",
              "       -4.63565230e-01,  1.48802638e-01, -5.54951251e-01, -9.57489848e-01,\n",
              "       -7.68506467e-01,  1.23164952e-01,  1.26530159e+00,  5.36290884e-01,\n",
              "        1.99924737e-01,  1.01549113e+00,  1.95921332e-01,  2.39044353e-02,\n",
              "        8.70679840e-02,  5.55109859e-01,  9.15153250e-02,  9.67298508e-01,\n",
              "       -1.08071041e+00,  1.32859910e+00,  1.26000881e+00,  9.33371067e-01,\n",
              "        6.76185191e-02, -4.70979571e-01, -6.97480083e-01, -1.14545548e+00,\n",
              "        7.22496092e-01, -7.07835853e-01,  1.14767182e+00,  7.14939892e-01,\n",
              "       -5.44722915e-01, -1.69647384e+00,  1.41233355e-01, -3.15242633e-02,\n",
              "        2.07365736e-01, -1.74013630e-01,  5.23246765e-01, -6.85854197e-01,\n",
              "        9.51107621e-01, -5.38551569e-01, -5.00632226e-01,  7.48159945e-01,\n",
              "        1.09935367e+00,  1.14890754e+00,  4.33532804e-01, -3.47641677e-01,\n",
              "        8.26041102e-01,  1.17629087e+00, -2.63814986e-01, -1.47629440e+00,\n",
              "        4.79142725e-01, -8.84950384e-02,  9.39039826e-01,  6.52613580e-01,\n",
              "       -1.16505826e+00,  8.81296337e-01,  5.56179062e-02, -5.98568559e-01,\n",
              "       -3.02958608e-01,  6.37480319e-01,  1.16895270e+00,  8.63194823e-01,\n",
              "       -6.98267758e-01,  1.00600564e+00,  2.58396536e-01, -1.18189704e+00,\n",
              "       -5.53512037e-01, -9.50976729e-01,  1.38484204e+00,  2.02937990e-01],\n",
              "      dtype=float32)"
            ]
          },
          "metadata": {
            "tags": []
          },
          "execution_count": 15
        }
      ]
    },
    {
      "cell_type": "code",
      "metadata": {
        "id": "zi1wnscL-9CB",
        "colab_type": "code",
        "colab": {
          "base_uri": "https://localhost:8080/",
          "height": 206
        },
        "outputId": "2480bb96-6a83-4acc-ac4b-5e33d12c5ab5"
      },
      "source": [
        "#Building an index\n",
        "idx_3 = [\"Doc:{0}\".format(i) for i in range(len(result))]\n",
        "\n",
        "#Transforming result in a list\n",
        "column =[result[i] for i in range(len(result))]\n",
        "\n",
        "#DF\n",
        "df_corpus3 = pd.DataFrame({\"BERT_vec\":column}, index=idx_3)\n",
        "\n",
        "#Inspection\n",
        "df_corpus3.head()"
      ],
      "execution_count": 18,
      "outputs": [
        {
          "output_type": "execute_result",
          "data": {
            "text/html": [
              "<div>\n",
              "<style scoped>\n",
              "    .dataframe tbody tr th:only-of-type {\n",
              "        vertical-align: middle;\n",
              "    }\n",
              "\n",
              "    .dataframe tbody tr th {\n",
              "        vertical-align: top;\n",
              "    }\n",
              "\n",
              "    .dataframe thead th {\n",
              "        text-align: right;\n",
              "    }\n",
              "</style>\n",
              "<table border=\"1\" class=\"dataframe\">\n",
              "  <thead>\n",
              "    <tr style=\"text-align: right;\">\n",
              "      <th></th>\n",
              "      <th>BERT_vec</th>\n",
              "    </tr>\n",
              "  </thead>\n",
              "  <tbody>\n",
              "    <tr>\n",
              "      <th>Doc:0</th>\n",
              "      <td>[-0.5120766, 0.89850354, -0.040263977, 0.97601...</td>\n",
              "    </tr>\n",
              "    <tr>\n",
              "      <th>Doc:1</th>\n",
              "      <td>[-0.43393064, 0.9438446, 0.12822637, 1.0322036...</td>\n",
              "    </tr>\n",
              "    <tr>\n",
              "      <th>Doc:2</th>\n",
              "      <td>[-0.27287897, 0.9258644, 0.4602991, 0.9954953,...</td>\n",
              "    </tr>\n",
              "    <tr>\n",
              "      <th>Doc:3</th>\n",
              "      <td>[-0.47387365, 0.95038927, 0.15217799, 1.023968...</td>\n",
              "    </tr>\n",
              "    <tr>\n",
              "      <th>Doc:4</th>\n",
              "      <td>[-0.45939636, 0.9893924, 0.21987191, 1.0370936...</td>\n",
              "    </tr>\n",
              "  </tbody>\n",
              "</table>\n",
              "</div>"
            ],
            "text/plain": [
              "                                                BERT_vec\n",
              "Doc:0  [-0.5120766, 0.89850354, -0.040263977, 0.97601...\n",
              "Doc:1  [-0.43393064, 0.9438446, 0.12822637, 1.0322036...\n",
              "Doc:2  [-0.27287897, 0.9258644, 0.4602991, 0.9954953,...\n",
              "Doc:3  [-0.47387365, 0.95038927, 0.15217799, 1.023968...\n",
              "Doc:4  [-0.45939636, 0.9893924, 0.21987191, 1.0370936..."
            ]
          },
          "metadata": {
            "tags": []
          },
          "execution_count": 18
        }
      ]
    }
  ]
}